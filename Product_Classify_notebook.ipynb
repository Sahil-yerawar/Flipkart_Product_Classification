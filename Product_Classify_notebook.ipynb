{
  "nbformat": 4,
  "nbformat_minor": 0,
  "metadata": {
    "colab": {
      "name": "Product_Classify.ipynb",
      "provenance": [],
      "collapsed_sections": [
        "ojEvqoX44sqI",
        "ptNS9hQb4ycf",
        "hQ39nG8G9vJ-"
      ],
      "toc_visible": true
    },
    "kernelspec": {
      "name": "python3",
      "display_name": "Python 3"
    },
    "language_info": {
      "name": "python"
    }
  },
  "cells": [
    {
      "cell_type": "markdown",
      "metadata": {
        "id": "vJW7NuWwnDeq"
      },
      "source": [
        "### Requirements"
      ]
    },
    {
      "cell_type": "code",
      "metadata": {
        "colab": {
          "base_uri": "https://localhost:8080/"
        },
        "id": "4Bj5r6WvfkrQ",
        "outputId": "74f144ab-3266-4322-ec56-793e4be24b85"
      },
      "source": [
        "!pip install xgboost"
      ],
      "execution_count": 1,
      "outputs": [
        {
          "output_type": "stream",
          "text": [
            "Requirement already satisfied: xgboost in /usr/local/lib/python3.7/dist-packages (0.90)\n",
            "Requirement already satisfied: numpy in /usr/local/lib/python3.7/dist-packages (from xgboost) (1.19.5)\n",
            "Requirement already satisfied: scipy in /usr/local/lib/python3.7/dist-packages (from xgboost) (1.4.1)\n"
          ],
          "name": "stdout"
        }
      ]
    },
    {
      "cell_type": "code",
      "metadata": {
        "colab": {
          "base_uri": "https://localhost:8080/"
        },
        "id": "7a3a6C7hrwNG",
        "outputId": "21a7b41c-e9a2-4e2b-97ea-32799d1f32bf"
      },
      "source": [
        "\"\"\"Since this notebook was run on Google Colab, the below code block is necessary to store and fetch data for the program.\"\"\"\n",
        "from google.colab import drive\n",
        "drive.mount('/content/gdrive', force_remount=True)"
      ],
      "execution_count": 5,
      "outputs": [
        {
          "output_type": "stream",
          "text": [
            "Mounted at /content/gdrive\n"
          ],
          "name": "stdout"
        }
      ]
    },
    {
      "cell_type": "code",
      "metadata": {
        "id": "UWbVAMxSreTe"
      },
      "source": [
        "import matplotlib.pyplot as plt\n",
        "import nltk\n",
        "from nltk.stem import WordNetLemmatizer\n",
        "import numpy as np\n",
        "import pandas as pd\n",
        "import re\n",
        "from sklearn import preprocessing,svm\n",
        "from sklearn.ensemble import RandomForestClassifier\n",
        "from sklearn.feature_extraction.text import CountVectorizer,TfidfVectorizer\n",
        "from sklearn.model_selection import train_test_split,KFold\n",
        "from sklearn.metrics import classification_report,recall_score,precision_score,f1_score\n",
        "from sklearn.naive_bayes import MultinomialNB,ComplementNB\n",
        "from sklearn.utils import class_weight,shuffle\n",
        "import string\n",
        "from statistics import mean\n",
        "import xgboost as xgb"
      ],
      "execution_count": 2,
      "outputs": []
    },
    {
      "cell_type": "code",
      "metadata": {
        "colab": {
          "base_uri": "https://localhost:8080/"
        },
        "id": "Ewki8zakjT2V",
        "outputId": "0a6037ba-3a07-4034-81d0-68345a9948ec"
      },
      "source": [
        "nltk.download('stopwords')\n",
        "nltk.download('wordnet')"
      ],
      "execution_count": 3,
      "outputs": [
        {
          "output_type": "stream",
          "text": [
            "[nltk_data] Downloading package stopwords to /root/nltk_data...\n",
            "[nltk_data]   Unzipping corpora/stopwords.zip.\n",
            "[nltk_data] Downloading package wordnet to /root/nltk_data...\n",
            "[nltk_data]   Unzipping corpora/wordnet.zip.\n"
          ],
          "name": "stdout"
        },
        {
          "output_type": "execute_result",
          "data": {
            "text/plain": [
              "True"
            ]
          },
          "metadata": {
            "tags": []
          },
          "execution_count": 3
        }
      ]
    },
    {
      "cell_type": "code",
      "metadata": {
        "id": "eGEKFYSlii7M"
      },
      "source": [
        "stopword = nltk.corpus.stopwords.words('english')\n",
        "lemmatizer = WordNetLemmatizer()"
      ],
      "execution_count": 4,
      "outputs": []
    },
    {
      "cell_type": "markdown",
      "metadata": {
        "id": "ivGr2G_lk7KS"
      },
      "source": [
        "### Handling the Dataset"
      ]
    },
    {
      "cell_type": "code",
      "metadata": {
        "colab": {
          "base_uri": "https://localhost:8080/",
          "height": 949
        },
        "id": "0IbGhNxvr8mQ",
        "outputId": "4b4c201e-6b77-4d3c-b31e-2722f51230bf"
      },
      "source": [
        "# This data was taken from csv and dumped into a pickle file\n",
        "records = pd.read_pickle('/content/gdrive/MyDrive/Research/product_classify/record_dump.pkl')\n",
        "records"
      ],
      "execution_count": 6,
      "outputs": [
        {
          "output_type": "execute_result",
          "data": {
            "text/html": [
              "<div>\n",
              "<style scoped>\n",
              "    .dataframe tbody tr th:only-of-type {\n",
              "        vertical-align: middle;\n",
              "    }\n",
              "\n",
              "    .dataframe tbody tr th {\n",
              "        vertical-align: top;\n",
              "    }\n",
              "\n",
              "    .dataframe thead th {\n",
              "        text-align: right;\n",
              "    }\n",
              "</style>\n",
              "<table border=\"1\" class=\"dataframe\">\n",
              "  <thead>\n",
              "    <tr style=\"text-align: right;\">\n",
              "      <th></th>\n",
              "      <th>brand</th>\n",
              "      <th>crawl_timestamp</th>\n",
              "      <th>description</th>\n",
              "      <th>discounted_price</th>\n",
              "      <th>image</th>\n",
              "      <th>is_FK_Advantage_product</th>\n",
              "      <th>overall_rating</th>\n",
              "      <th>pid</th>\n",
              "      <th>product_category_tree</th>\n",
              "      <th>product_name</th>\n",
              "      <th>product_rating</th>\n",
              "      <th>product_specifications</th>\n",
              "      <th>product_url</th>\n",
              "      <th>retail_price</th>\n",
              "      <th>uniq_id</th>\n",
              "    </tr>\n",
              "  </thead>\n",
              "  <tbody>\n",
              "    <tr>\n",
              "      <th>0</th>\n",
              "      <td>Alisha</td>\n",
              "      <td>2016-03-25 22:59:23 +0000</td>\n",
              "      <td>Key Features of Alisha Solid Women's Cycling S...</td>\n",
              "      <td>379</td>\n",
              "      <td>[\"http://img5a.flixcart.com/image/short/u/4/a/...</td>\n",
              "      <td>FALSE</td>\n",
              "      <td>No rating available</td>\n",
              "      <td>SRTEH2FF9KEDEFGF</td>\n",
              "      <td>[\"Clothing &gt;&gt; Women's Clothing &gt;&gt; Lingerie, Sl...</td>\n",
              "      <td>Alisha Solid Women's Cycling Shorts</td>\n",
              "      <td>No rating available</td>\n",
              "      <td>{\"product_specification\"=&gt;[{\"key\"=&gt;\"Number of ...</td>\n",
              "      <td>http://www.flipkart.com/alisha-solid-women-s-c...</td>\n",
              "      <td>999</td>\n",
              "      <td>c2d766ca982eca8304150849735ffef9</td>\n",
              "    </tr>\n",
              "    <tr>\n",
              "      <th>1</th>\n",
              "      <td>FabHomeDecor</td>\n",
              "      <td>2016-03-25 22:59:23 +0000</td>\n",
              "      <td>FabHomeDecor Fabric Double Sofa Bed (Finish Co...</td>\n",
              "      <td>22646</td>\n",
              "      <td>[\"http://img6a.flixcart.com/image/sofa-bed/j/f...</td>\n",
              "      <td>FALSE</td>\n",
              "      <td>No rating available</td>\n",
              "      <td>SBEEH3QGU7MFYJFY</td>\n",
              "      <td>[\"Furniture &gt;&gt; Living Room Furniture &gt;&gt; Sofa B...</td>\n",
              "      <td>FabHomeDecor Fabric Double Sofa Bed</td>\n",
              "      <td>No rating available</td>\n",
              "      <td>{\"product_specification\"=&gt;[{\"key\"=&gt;\"Installati...</td>\n",
              "      <td>http://www.flipkart.com/fabhomedecor-fabric-do...</td>\n",
              "      <td>32157</td>\n",
              "      <td>7f7036a6d550aaa89d34c77bd39a5e48</td>\n",
              "    </tr>\n",
              "    <tr>\n",
              "      <th>2</th>\n",
              "      <td>AW</td>\n",
              "      <td>2016-03-25 22:59:23 +0000</td>\n",
              "      <td>Key Features of AW Bellies Sandals Wedges Heel...</td>\n",
              "      <td>499</td>\n",
              "      <td>[\"http://img5a.flixcart.com/image/shoe/7/z/z/r...</td>\n",
              "      <td>FALSE</td>\n",
              "      <td>No rating available</td>\n",
              "      <td>SHOEH4GRSUBJGZXE</td>\n",
              "      <td>[\"Footwear &gt;&gt; Women's Footwear &gt;&gt; Ballerinas &gt;...</td>\n",
              "      <td>AW Bellies</td>\n",
              "      <td>No rating available</td>\n",
              "      <td>{\"product_specification\"=&gt;[{\"key\"=&gt;\"Ideal For\"...</td>\n",
              "      <td>http://www.flipkart.com/aw-bellies/p/itmeh4grg...</td>\n",
              "      <td>999</td>\n",
              "      <td>f449ec65dcbc041b6ae5e6a32717d01b</td>\n",
              "    </tr>\n",
              "    <tr>\n",
              "      <th>3</th>\n",
              "      <td>Alisha</td>\n",
              "      <td>2016-03-25 22:59:23 +0000</td>\n",
              "      <td>Key Features of Alisha Solid Women's Cycling S...</td>\n",
              "      <td>267</td>\n",
              "      <td>[\"http://img5a.flixcart.com/image/short/6/2/h/...</td>\n",
              "      <td>FALSE</td>\n",
              "      <td>No rating available</td>\n",
              "      <td>SRTEH2F6HUZMQ6SJ</td>\n",
              "      <td>[\"Clothing &gt;&gt; Women's Clothing &gt;&gt; Lingerie, Sl...</td>\n",
              "      <td>Alisha Solid Women's Cycling Shorts</td>\n",
              "      <td>No rating available</td>\n",
              "      <td>{\"product_specification\"=&gt;[{\"key\"=&gt;\"Number of ...</td>\n",
              "      <td>http://www.flipkart.com/alisha-solid-women-s-c...</td>\n",
              "      <td>699</td>\n",
              "      <td>0973b37acd0c664e3de26e97e5571454</td>\n",
              "    </tr>\n",
              "    <tr>\n",
              "      <th>4</th>\n",
              "      <td>Sicons</td>\n",
              "      <td>2016-03-25 22:59:23 +0000</td>\n",
              "      <td>Specifications of Sicons All Purpose Arnica Do...</td>\n",
              "      <td>210</td>\n",
              "      <td>[\"http://img5a.flixcart.com/image/pet-shampoo/...</td>\n",
              "      <td>FALSE</td>\n",
              "      <td>No rating available</td>\n",
              "      <td>PSOEH3ZYDMSYARJ5</td>\n",
              "      <td>[\"Pet Supplies &gt;&gt; Grooming &gt;&gt; Skin &amp; Coat Care...</td>\n",
              "      <td>Sicons All Purpose Arnica Dog Shampoo</td>\n",
              "      <td>No rating available</td>\n",
              "      <td>{\"product_specification\"=&gt;[{\"key\"=&gt;\"Pet Type\",...</td>\n",
              "      <td>http://www.flipkart.com/sicons-all-purpose-arn...</td>\n",
              "      <td>220</td>\n",
              "      <td>bc940ea42ee6bef5ac7cea3fb5cfbee7</td>\n",
              "    </tr>\n",
              "    <tr>\n",
              "      <th>...</th>\n",
              "      <td>...</td>\n",
              "      <td>...</td>\n",
              "      <td>...</td>\n",
              "      <td>...</td>\n",
              "      <td>...</td>\n",
              "      <td>...</td>\n",
              "      <td>...</td>\n",
              "      <td>...</td>\n",
              "      <td>...</td>\n",
              "      <td>...</td>\n",
              "      <td>...</td>\n",
              "      <td>...</td>\n",
              "      <td>...</td>\n",
              "      <td>...</td>\n",
              "      <td>...</td>\n",
              "    </tr>\n",
              "    <tr>\n",
              "      <th>19995</th>\n",
              "      <td>WallDesign</td>\n",
              "      <td>2015-12-01 10:15:43 +0000</td>\n",
              "      <td>Buy WallDesign Small Vinyl Sticker for Rs.730 ...</td>\n",
              "      <td>730</td>\n",
              "      <td>[\"http://img6a.flixcart.com/image/wall-decorat...</td>\n",
              "      <td>FALSE</td>\n",
              "      <td>No rating available</td>\n",
              "      <td>STIE7KFJAKSTDY9G</td>\n",
              "      <td>[\"Baby Care &gt;&gt; Baby &amp; Kids Gifts &gt;&gt; Stickers &gt;...</td>\n",
              "      <td>WallDesign Small Vinyl Sticker</td>\n",
              "      <td>No rating available</td>\n",
              "      <td>{\"product_specification\"=&gt;[{\"key\"=&gt;\"Number of ...</td>\n",
              "      <td>http://www.flipkart.com/walldesign-small-vinyl...</td>\n",
              "      <td>1500</td>\n",
              "      <td>7179d2f6c4ad50a17d014ca1d2815156</td>\n",
              "    </tr>\n",
              "    <tr>\n",
              "      <th>19996</th>\n",
              "      <td>Wallmantra</td>\n",
              "      <td>2015-12-01 10:15:43 +0000</td>\n",
              "      <td>Buy Wallmantra Large Vinyl Stickers Sticker fo...</td>\n",
              "      <td>1143</td>\n",
              "      <td>[\"http://img6a.flixcart.com/image/sticker/z/g/...</td>\n",
              "      <td>FALSE</td>\n",
              "      <td>No rating available</td>\n",
              "      <td>STIE9F5URNQGJCGH</td>\n",
              "      <td>[\"Baby Care &gt;&gt; Baby &amp; Kids Gifts &gt;&gt; Stickers &gt;...</td>\n",
              "      <td>Wallmantra Large Vinyl Stickers Sticker</td>\n",
              "      <td>No rating available</td>\n",
              "      <td>{\"product_specification\"=&gt;[{\"key\"=&gt;\"Number of ...</td>\n",
              "      <td>http://www.flipkart.com/wallmantra-large-vinyl...</td>\n",
              "      <td>1429</td>\n",
              "      <td>71ac419198359d37b8fe5e3fffdfee09</td>\n",
              "    </tr>\n",
              "    <tr>\n",
              "      <th>19997</th>\n",
              "      <td>Elite Collection</td>\n",
              "      <td>2015-12-01 10:15:43 +0000</td>\n",
              "      <td>Buy Elite Collection Medium Acrylic Sticker fo...</td>\n",
              "      <td>999</td>\n",
              "      <td>[\"http://img5a.flixcart.com/image/sticker/b/s/...</td>\n",
              "      <td>FALSE</td>\n",
              "      <td>No rating available</td>\n",
              "      <td>STIE7VAYDKQZEBSD</td>\n",
              "      <td>[\"Baby Care &gt;&gt; Baby &amp; Kids Gifts &gt;&gt; Stickers &gt;...</td>\n",
              "      <td>Elite Collection Medium Acrylic Sticker</td>\n",
              "      <td>No rating available</td>\n",
              "      <td>{\"product_specification\"=&gt;[{\"key\"=&gt;\"Number of ...</td>\n",
              "      <td>http://www.flipkart.com/elite-collection-mediu...</td>\n",
              "      <td>1299</td>\n",
              "      <td>93e9d343837400ce0d7980874ece471c</td>\n",
              "    </tr>\n",
              "    <tr>\n",
              "      <th>19998</th>\n",
              "      <td>Elite Collection</td>\n",
              "      <td>2015-12-01 10:15:43 +0000</td>\n",
              "      <td>Buy Elite Collection Medium Acrylic Sticker fo...</td>\n",
              "      <td>1199</td>\n",
              "      <td>[\"http://img5a.flixcart.com/image/sticker/4/2/...</td>\n",
              "      <td>FALSE</td>\n",
              "      <td>No rating available</td>\n",
              "      <td>STIE8YSVEPPCZ42Y</td>\n",
              "      <td>[\"Baby Care &gt;&gt; Baby &amp; Kids Gifts &gt;&gt; Stickers &gt;...</td>\n",
              "      <td>Elite Collection Medium Acrylic Sticker</td>\n",
              "      <td>No rating available</td>\n",
              "      <td>{\"product_specification\"=&gt;[{\"key\"=&gt;\"Number of ...</td>\n",
              "      <td>http://www.flipkart.com/elite-collection-mediu...</td>\n",
              "      <td>1499</td>\n",
              "      <td>669e79b8fa5d9ae020841c0c97d5e935</td>\n",
              "    </tr>\n",
              "    <tr>\n",
              "      <th>19999</th>\n",
              "      <td>Elite Collection</td>\n",
              "      <td>2015-12-01 10:15:43 +0000</td>\n",
              "      <td>Buy Elite Collection Medium Acrylic Sticker fo...</td>\n",
              "      <td>999</td>\n",
              "      <td>[\"http://img6a.flixcart.com/image/sticker/z/k/...</td>\n",
              "      <td>FALSE</td>\n",
              "      <td>No rating available</td>\n",
              "      <td>STIE88KN9ZDSGZKY</td>\n",
              "      <td>[\"Baby Care &gt;&gt; Baby &amp; Kids Gifts &gt;&gt; Stickers &gt;...</td>\n",
              "      <td>Elite Collection Medium Acrylic Sticker</td>\n",
              "      <td>No rating available</td>\n",
              "      <td>{\"product_specification\"=&gt;[{\"key\"=&gt;\"Number of ...</td>\n",
              "      <td>http://www.flipkart.com/elite-collection-mediu...</td>\n",
              "      <td>1499</td>\n",
              "      <td>cb4fa87a874f715fff567f7b7b3be79c</td>\n",
              "    </tr>\n",
              "  </tbody>\n",
              "</table>\n",
              "<p>20000 rows × 15 columns</p>\n",
              "</div>"
            ],
            "text/plain": [
              "                  brand  ...                           uniq_id\n",
              "0                Alisha  ...  c2d766ca982eca8304150849735ffef9\n",
              "1          FabHomeDecor  ...  7f7036a6d550aaa89d34c77bd39a5e48\n",
              "2                    AW  ...  f449ec65dcbc041b6ae5e6a32717d01b\n",
              "3                Alisha  ...  0973b37acd0c664e3de26e97e5571454\n",
              "4                Sicons  ...  bc940ea42ee6bef5ac7cea3fb5cfbee7\n",
              "...                 ...  ...                               ...\n",
              "19995        WallDesign  ...  7179d2f6c4ad50a17d014ca1d2815156\n",
              "19996        Wallmantra  ...  71ac419198359d37b8fe5e3fffdfee09\n",
              "19997  Elite Collection  ...  93e9d343837400ce0d7980874ece471c\n",
              "19998  Elite Collection  ...  669e79b8fa5d9ae020841c0c97d5e935\n",
              "19999  Elite Collection  ...  cb4fa87a874f715fff567f7b7b3be79c\n",
              "\n",
              "[20000 rows x 15 columns]"
            ]
          },
          "metadata": {
            "tags": []
          },
          "execution_count": 6
        }
      ]
    },
    {
      "cell_type": "code",
      "metadata": {
        "id": "92tDRF7MsZdH",
        "colab": {
          "base_uri": "https://localhost:8080/",
          "height": 419
        },
        "outputId": "102329e3-c7dd-43c3-bcde-33c640a40a87"
      },
      "source": [
        "df1 = records[['product_name','description','product_category_tree']]\n",
        "df1"
      ],
      "execution_count": 7,
      "outputs": [
        {
          "output_type": "execute_result",
          "data": {
            "text/html": [
              "<div>\n",
              "<style scoped>\n",
              "    .dataframe tbody tr th:only-of-type {\n",
              "        vertical-align: middle;\n",
              "    }\n",
              "\n",
              "    .dataframe tbody tr th {\n",
              "        vertical-align: top;\n",
              "    }\n",
              "\n",
              "    .dataframe thead th {\n",
              "        text-align: right;\n",
              "    }\n",
              "</style>\n",
              "<table border=\"1\" class=\"dataframe\">\n",
              "  <thead>\n",
              "    <tr style=\"text-align: right;\">\n",
              "      <th></th>\n",
              "      <th>product_name</th>\n",
              "      <th>description</th>\n",
              "      <th>product_category_tree</th>\n",
              "    </tr>\n",
              "  </thead>\n",
              "  <tbody>\n",
              "    <tr>\n",
              "      <th>0</th>\n",
              "      <td>Alisha Solid Women's Cycling Shorts</td>\n",
              "      <td>Key Features of Alisha Solid Women's Cycling S...</td>\n",
              "      <td>[\"Clothing &gt;&gt; Women's Clothing &gt;&gt; Lingerie, Sl...</td>\n",
              "    </tr>\n",
              "    <tr>\n",
              "      <th>1</th>\n",
              "      <td>FabHomeDecor Fabric Double Sofa Bed</td>\n",
              "      <td>FabHomeDecor Fabric Double Sofa Bed (Finish Co...</td>\n",
              "      <td>[\"Furniture &gt;&gt; Living Room Furniture &gt;&gt; Sofa B...</td>\n",
              "    </tr>\n",
              "    <tr>\n",
              "      <th>2</th>\n",
              "      <td>AW Bellies</td>\n",
              "      <td>Key Features of AW Bellies Sandals Wedges Heel...</td>\n",
              "      <td>[\"Footwear &gt;&gt; Women's Footwear &gt;&gt; Ballerinas &gt;...</td>\n",
              "    </tr>\n",
              "    <tr>\n",
              "      <th>3</th>\n",
              "      <td>Alisha Solid Women's Cycling Shorts</td>\n",
              "      <td>Key Features of Alisha Solid Women's Cycling S...</td>\n",
              "      <td>[\"Clothing &gt;&gt; Women's Clothing &gt;&gt; Lingerie, Sl...</td>\n",
              "    </tr>\n",
              "    <tr>\n",
              "      <th>4</th>\n",
              "      <td>Sicons All Purpose Arnica Dog Shampoo</td>\n",
              "      <td>Specifications of Sicons All Purpose Arnica Do...</td>\n",
              "      <td>[\"Pet Supplies &gt;&gt; Grooming &gt;&gt; Skin &amp; Coat Care...</td>\n",
              "    </tr>\n",
              "    <tr>\n",
              "      <th>...</th>\n",
              "      <td>...</td>\n",
              "      <td>...</td>\n",
              "      <td>...</td>\n",
              "    </tr>\n",
              "    <tr>\n",
              "      <th>19995</th>\n",
              "      <td>WallDesign Small Vinyl Sticker</td>\n",
              "      <td>Buy WallDesign Small Vinyl Sticker for Rs.730 ...</td>\n",
              "      <td>[\"Baby Care &gt;&gt; Baby &amp; Kids Gifts &gt;&gt; Stickers &gt;...</td>\n",
              "    </tr>\n",
              "    <tr>\n",
              "      <th>19996</th>\n",
              "      <td>Wallmantra Large Vinyl Stickers Sticker</td>\n",
              "      <td>Buy Wallmantra Large Vinyl Stickers Sticker fo...</td>\n",
              "      <td>[\"Baby Care &gt;&gt; Baby &amp; Kids Gifts &gt;&gt; Stickers &gt;...</td>\n",
              "    </tr>\n",
              "    <tr>\n",
              "      <th>19997</th>\n",
              "      <td>Elite Collection Medium Acrylic Sticker</td>\n",
              "      <td>Buy Elite Collection Medium Acrylic Sticker fo...</td>\n",
              "      <td>[\"Baby Care &gt;&gt; Baby &amp; Kids Gifts &gt;&gt; Stickers &gt;...</td>\n",
              "    </tr>\n",
              "    <tr>\n",
              "      <th>19998</th>\n",
              "      <td>Elite Collection Medium Acrylic Sticker</td>\n",
              "      <td>Buy Elite Collection Medium Acrylic Sticker fo...</td>\n",
              "      <td>[\"Baby Care &gt;&gt; Baby &amp; Kids Gifts &gt;&gt; Stickers &gt;...</td>\n",
              "    </tr>\n",
              "    <tr>\n",
              "      <th>19999</th>\n",
              "      <td>Elite Collection Medium Acrylic Sticker</td>\n",
              "      <td>Buy Elite Collection Medium Acrylic Sticker fo...</td>\n",
              "      <td>[\"Baby Care &gt;&gt; Baby &amp; Kids Gifts &gt;&gt; Stickers &gt;...</td>\n",
              "    </tr>\n",
              "  </tbody>\n",
              "</table>\n",
              "<p>20000 rows × 3 columns</p>\n",
              "</div>"
            ],
            "text/plain": [
              "                                  product_name  ...                              product_category_tree\n",
              "0          Alisha Solid Women's Cycling Shorts  ...  [\"Clothing >> Women's Clothing >> Lingerie, Sl...\n",
              "1          FabHomeDecor Fabric Double Sofa Bed  ...  [\"Furniture >> Living Room Furniture >> Sofa B...\n",
              "2                                   AW Bellies  ...  [\"Footwear >> Women's Footwear >> Ballerinas >...\n",
              "3          Alisha Solid Women's Cycling Shorts  ...  [\"Clothing >> Women's Clothing >> Lingerie, Sl...\n",
              "4        Sicons All Purpose Arnica Dog Shampoo  ...  [\"Pet Supplies >> Grooming >> Skin & Coat Care...\n",
              "...                                        ...  ...                                                ...\n",
              "19995           WallDesign Small Vinyl Sticker  ...  [\"Baby Care >> Baby & Kids Gifts >> Stickers >...\n",
              "19996  Wallmantra Large Vinyl Stickers Sticker  ...  [\"Baby Care >> Baby & Kids Gifts >> Stickers >...\n",
              "19997  Elite Collection Medium Acrylic Sticker  ...  [\"Baby Care >> Baby & Kids Gifts >> Stickers >...\n",
              "19998  Elite Collection Medium Acrylic Sticker  ...  [\"Baby Care >> Baby & Kids Gifts >> Stickers >...\n",
              "19999  Elite Collection Medium Acrylic Sticker  ...  [\"Baby Care >> Baby & Kids Gifts >> Stickers >...\n",
              "\n",
              "[20000 rows x 3 columns]"
            ]
          },
          "metadata": {
            "tags": []
          },
          "execution_count": 7
        }
      ]
    },
    {
      "cell_type": "markdown",
      "metadata": {
        "id": "W22XnJD4mIIH"
      },
      "source": [
        "#### Preprocessing Description"
      ]
    },
    {
      "cell_type": "code",
      "metadata": {
        "id": "pIurJWLEhEMg"
      },
      "source": [
        "\"\"\"These functions aim to remove unnecessary text elements which are not relevant for our task purposes. \"\"\"\n",
        "def remove_punctuation(desc):\n",
        "  words_no_punct = [words for words in desc if words not in string.punctuation]\n",
        "  words_wo_punct=''.join(words_no_punct)\n",
        "  return words_wo_punct\n",
        "\n",
        "def tokenize(desc):\n",
        "  split = re.split(\"\\W+\",desc)\n",
        "  for i in range(len(split)):\n",
        "    # i = i.lower()\n",
        "    split[i] = split[i].lower()\n",
        "  return split\n",
        "\n",
        "def remove_stopwords(desc):\n",
        "  text=[word for word in desc if word not in stopword]\n",
        "  return text\n",
        "\n",
        "def lemmatize(desc):\n",
        "  text=[lemmatizer.lemmatize(word) for word in desc]\n",
        "  return text\n",
        "\n",
        "\"\"\"Any occurence of number is removed as we are solely relying on text data for our task. \"\"\"\n",
        "def remove_numbers(desc):\n",
        "  text = [word for word in desc if not (word.isdigit() or bool(re.search(r'\\d', word)))and len(word) > 2]\n",
        "  return text\n",
        "\n",
        "\"\"\"Wrapper functions which performs all preprocessing tasks sequentially. \"\"\"\n",
        "def clean_description(description):\n",
        "  descriptions = description.lower()\n",
        "  description = remove_punctuation(description)\n",
        "  desc = tokenize(description)\n",
        "  desc = remove_stopwords(desc)\n",
        "  desc = remove_numbers(desc)\n",
        "  desc = lemmatize(desc)\n",
        "  return desc"
      ],
      "execution_count": 8,
      "outputs": []
    },
    {
      "cell_type": "code",
      "metadata": {
        "id": "cFOlKa9517fx"
      },
      "source": [
        "# Removing the entries which don't have a product category in it\n",
        "unlabelled = []\n",
        "labelled = []\n",
        "for index,row in df1.iterrows():\n",
        "  product_category = row['product_category_tree']\n",
        "  product_category = product_category.strip('[').strip(']').strip('\\\"')\n",
        "  ## Removing product category on the basis of this condition\n",
        "  if \">>\" not in product_category:\n",
        "    unlabelled.append((row['description'],product_category))\n",
        "  else:\n",
        "    label = product_category.split(\">>\")[0]\n",
        "    labelled.append((clean_description(row['description']),label))\n",
        "    row['product_category_tree'] = label\n",
        "  # print(product_category)\n",
        "  row['description'] = clean_description(row['description'])"
      ],
      "execution_count": 9,
      "outputs": []
    },
    {
      "cell_type": "code",
      "metadata": {
        "colab": {
          "base_uri": "https://localhost:8080/",
          "height": 419
        },
        "id": "IQcFuekfjsL9",
        "outputId": "2a3ac7e9-9661-47d3-d891-9e20c889406c"
      },
      "source": [
        "df1"
      ],
      "execution_count": 10,
      "outputs": [
        {
          "output_type": "execute_result",
          "data": {
            "text/html": [
              "<div>\n",
              "<style scoped>\n",
              "    .dataframe tbody tr th:only-of-type {\n",
              "        vertical-align: middle;\n",
              "    }\n",
              "\n",
              "    .dataframe tbody tr th {\n",
              "        vertical-align: top;\n",
              "    }\n",
              "\n",
              "    .dataframe thead th {\n",
              "        text-align: right;\n",
              "    }\n",
              "</style>\n",
              "<table border=\"1\" class=\"dataframe\">\n",
              "  <thead>\n",
              "    <tr style=\"text-align: right;\">\n",
              "      <th></th>\n",
              "      <th>product_name</th>\n",
              "      <th>description</th>\n",
              "      <th>product_category_tree</th>\n",
              "    </tr>\n",
              "  </thead>\n",
              "  <tbody>\n",
              "    <tr>\n",
              "      <th>0</th>\n",
              "      <td>Alisha Solid Women's Cycling Shorts</td>\n",
              "      <td>[key, feature, alisha, solid, woman, cycling, ...</td>\n",
              "      <td>Clothing</td>\n",
              "    </tr>\n",
              "    <tr>\n",
              "      <th>1</th>\n",
              "      <td>FabHomeDecor Fabric Double Sofa Bed</td>\n",
              "      <td>[fabhomedecor, fabric, double, sofa, bed, fini...</td>\n",
              "      <td>Furniture</td>\n",
              "    </tr>\n",
              "    <tr>\n",
              "      <th>2</th>\n",
              "      <td>AW Bellies</td>\n",
              "      <td>[key, feature, belly, sandal, wedge, heel, cas...</td>\n",
              "      <td>Footwear</td>\n",
              "    </tr>\n",
              "    <tr>\n",
              "      <th>3</th>\n",
              "      <td>Alisha Solid Women's Cycling Shorts</td>\n",
              "      <td>[key, feature, alisha, solid, woman, cycling, ...</td>\n",
              "      <td>Clothing</td>\n",
              "    </tr>\n",
              "    <tr>\n",
              "      <th>4</th>\n",
              "      <td>Sicons All Purpose Arnica Dog Shampoo</td>\n",
              "      <td>[specification, sicons, purpose, arnica, dog, ...</td>\n",
              "      <td>Pet Supplies</td>\n",
              "    </tr>\n",
              "    <tr>\n",
              "      <th>...</th>\n",
              "      <td>...</td>\n",
              "      <td>...</td>\n",
              "      <td>...</td>\n",
              "    </tr>\n",
              "    <tr>\n",
              "      <th>19995</th>\n",
              "      <td>WallDesign Small Vinyl Sticker</td>\n",
              "      <td>[buy, walldesign, small, vinyl, sticker, onlin...</td>\n",
              "      <td>Baby Care</td>\n",
              "    </tr>\n",
              "    <tr>\n",
              "      <th>19996</th>\n",
              "      <td>Wallmantra Large Vinyl Stickers Sticker</td>\n",
              "      <td>[buy, wallmantra, large, vinyl, sticker, stick...</td>\n",
              "      <td>Baby Care</td>\n",
              "    </tr>\n",
              "    <tr>\n",
              "      <th>19997</th>\n",
              "      <td>Elite Collection Medium Acrylic Sticker</td>\n",
              "      <td>[buy, elite, collection, medium, acrylic, stic...</td>\n",
              "      <td>Baby Care</td>\n",
              "    </tr>\n",
              "    <tr>\n",
              "      <th>19998</th>\n",
              "      <td>Elite Collection Medium Acrylic Sticker</td>\n",
              "      <td>[buy, elite, collection, medium, acrylic, stic...</td>\n",
              "      <td>Baby Care</td>\n",
              "    </tr>\n",
              "    <tr>\n",
              "      <th>19999</th>\n",
              "      <td>Elite Collection Medium Acrylic Sticker</td>\n",
              "      <td>[buy, elite, collection, medium, acrylic, stic...</td>\n",
              "      <td>Baby Care</td>\n",
              "    </tr>\n",
              "  </tbody>\n",
              "</table>\n",
              "<p>20000 rows × 3 columns</p>\n",
              "</div>"
            ],
            "text/plain": [
              "                                  product_name  ... product_category_tree\n",
              "0          Alisha Solid Women's Cycling Shorts  ...             Clothing \n",
              "1          FabHomeDecor Fabric Double Sofa Bed  ...            Furniture \n",
              "2                                   AW Bellies  ...             Footwear \n",
              "3          Alisha Solid Women's Cycling Shorts  ...             Clothing \n",
              "4        Sicons All Purpose Arnica Dog Shampoo  ...         Pet Supplies \n",
              "...                                        ...  ...                   ...\n",
              "19995           WallDesign Small Vinyl Sticker  ...            Baby Care \n",
              "19996  Wallmantra Large Vinyl Stickers Sticker  ...            Baby Care \n",
              "19997  Elite Collection Medium Acrylic Sticker  ...            Baby Care \n",
              "19998  Elite Collection Medium Acrylic Sticker  ...            Baby Care \n",
              "19999  Elite Collection Medium Acrylic Sticker  ...            Baby Care \n",
              "\n",
              "[20000 rows x 3 columns]"
            ]
          },
          "metadata": {
            "tags": []
          },
          "execution_count": 10
        }
      ]
    },
    {
      "cell_type": "markdown",
      "metadata": {
        "id": "MPGfiPJotaMG"
      },
      "source": [
        "### Data Analysis"
      ]
    },
    {
      "cell_type": "code",
      "metadata": {
        "colab": {
          "base_uri": "https://localhost:8080/"
        },
        "id": "osfybELl3dAG",
        "outputId": "02dc4241-f740-42fb-fec2-b91a3b4e35d4"
      },
      "source": [
        "\"\"\"The code block shows the count of items in each category\"\"\"\n",
        "cat_count = {}\n",
        "for i in labelled:\n",
        "  # print(i)\n",
        "  if i[1] not in cat_count.keys():\n",
        "    cat_count[i[1]] = 1\n",
        "  cat_count[i[1]] += 1\n",
        "cat_count"
      ],
      "execution_count": 11,
      "outputs": [
        {
          "output_type": "execute_result",
          "data": {
            "text/plain": [
              "{'Automation & Robotics ': 2,\n",
              " 'Automotive ': 1013,\n",
              " 'Baby Care ': 484,\n",
              " 'Bags, Wallets & Belts ': 266,\n",
              " 'Beauty and Personal Care ': 711,\n",
              " 'Cameras & Accessories ': 83,\n",
              " 'Clothing ': 6199,\n",
              " 'Computers ': 579,\n",
              " 'Eyewear ': 11,\n",
              " 'Food & Nutrition ': 3,\n",
              " 'Footwear ': 1228,\n",
              " 'Furniture ': 181,\n",
              " 'Gaming ': 36,\n",
              " 'Health & Personal Care Appliances ': 44,\n",
              " 'Home & Kitchen ': 25,\n",
              " 'Home Decor & Festive Needs ': 930,\n",
              " 'Home Entertainment ': 20,\n",
              " 'Home Furnishing ': 701,\n",
              " 'Home Improvement ': 82,\n",
              " 'Household Supplies ': 5,\n",
              " 'Jewellery ': 3532,\n",
              " 'Kitchen & Dining ': 648,\n",
              " 'Mobiles & Accessories ': 1100,\n",
              " 'Pens & Stationery ': 314,\n",
              " 'Pet Supplies ': 31,\n",
              " 'Sports & Fitness ': 167,\n",
              " 'Sunglasses ': 36,\n",
              " 'Tools & Hardware ': 392,\n",
              " 'Toys & School Supplies ': 331,\n",
              " 'Watches ': 531,\n",
              " 'Wearable Smart Devices ': 3,\n",
              " 'eBooks ': 16}"
            ]
          },
          "metadata": {
            "tags": []
          },
          "execution_count": 11
        }
      ]
    },
    {
      "cell_type": "code",
      "metadata": {
        "colab": {
          "base_uri": "https://localhost:8080/"
        },
        "id": "RJPbb88A4Kod",
        "outputId": "3271e213-3473-44e8-e243-40dc128a4843"
      },
      "source": [
        "\"\"\"\n",
        "The code block shows the share/proportion (in %) of items in each category \n",
        "as compared to all of the items.\n",
        "\"\"\"\n",
        "len(labelled)\n",
        "for i in cat_count.keys():\n",
        "  cat_count[i] = float(cat_count[i]/len(labelled))*100\n",
        "cat_count"
      ],
      "execution_count": 136,
      "outputs": [
        {
          "output_type": "execute_result",
          "data": {
            "text/plain": [
              "{'Automation & Robotics ': 0.010166734444896299,\n",
              " 'Automotive ': 5.149450996339976,\n",
              " 'Baby Care ': 2.4603497356649044,\n",
              " 'Bags, Wallets & Belts ': 1.3521756811712078,\n",
              " 'Beauty and Personal Care ': 3.614274095160634,\n",
              " 'Cameras & Accessories ': 0.4219194794631964,\n",
              " 'Clothing ': 31.51179341195608,\n",
              " 'Computers ': 2.9432696217974783,\n",
              " 'Eyewear ': 0.05591703944692964,\n",
              " 'Food & Nutrition ': 0.015250101667344447,\n",
              " 'Footwear ': 6.242374949166328,\n",
              " 'Furniture ': 0.9200894672631151,\n",
              " 'Gaming ': 0.18300122000813338,\n",
              " 'Health & Personal Care Appliances ': 0.22366815778771856,\n",
              " 'Home & Kitchen ': 0.12708418056120374,\n",
              " 'Home Decor & Festive Needs ': 4.727531516876779,\n",
              " 'Home Entertainment ': 0.10166734444896298,\n",
              " 'Home Furnishing ': 3.563440422936153,\n",
              " 'Home Improvement ': 0.41683611224074824,\n",
              " 'Household Supplies ': 0.025416836112240746,\n",
              " 'Jewellery ': 17.954453029686864,\n",
              " 'Kitchen & Dining ': 3.294021960146401,\n",
              " 'Mobiles & Accessories ': 5.591703944692965,\n",
              " 'Pens & Stationery ': 1.5961773078487191,\n",
              " 'Pet Supplies ': 0.15758438389589263,\n",
              " 'Sports & Fitness ': 0.848922326148841,\n",
              " 'Sunglasses ': 0.18300122000813338,\n",
              " 'Tools & Hardware ': 1.9926799511996744,\n",
              " 'Toys & School Supplies ': 1.6825945506303377,\n",
              " 'Watches ': 2.699267995119967,\n",
              " 'Wearable Smart Devices ': 0.015250101667344447,\n",
              " 'eBooks ': 0.08133387555917039}"
            ]
          },
          "metadata": {
            "tags": []
          },
          "execution_count": 136
        }
      ]
    },
    {
      "cell_type": "code",
      "metadata": {
        "colab": {
          "base_uri": "https://localhost:8080/"
        },
        "id": "epEjvIyR5tox",
        "outputId": "46a7b13f-b673-4b6a-f55c-f52ee4ce490a"
      },
      "source": [
        "\"\"\"Total number of classes\"\"\"\n",
        "len(cat_count.keys())"
      ],
      "execution_count": 137,
      "outputs": [
        {
          "output_type": "execute_result",
          "data": {
            "text/plain": [
              "32"
            ]
          },
          "metadata": {
            "tags": []
          },
          "execution_count": 137
        }
      ]
    },
    {
      "cell_type": "code",
      "metadata": {
        "colab": {
          "base_uri": "https://localhost:8080/",
          "height": 417
        },
        "id": "gwJtltQHFCgt",
        "outputId": "e58f2a49-af14-42b8-d0fe-ca4751a1b827"
      },
      "source": [
        "# Bar Chart\n",
        "plt.bar(cat_count.keys(),cat_count.values())\n",
        "plt.title('Bar distribution of various categories')\n",
        "plt.xlabel('Categories')\n",
        "plt.ylabel('#occurence')\n",
        "plt.xticks(range(len(cat_count.keys())), cat_count.keys(), rotation=45)\n",
        "plt.show()"
      ],
      "execution_count": 146,
      "outputs": [
        {
          "output_type": "display_data",
          "data": {
            "image/png": "[encoded data removed]",
            "text/plain": [
              "<Figure size 432x288 with 1 Axes>"
            ]
          },
          "metadata": {
            "tags": [],
            "needs_background": "light"
          }
        }
      ]
    },
    {
      "cell_type": "code",
      "metadata": {
        "colab": {
          "base_uri": "https://localhost:8080/",
          "height": 908
        },
        "id": "_NVOpmI_t3NJ",
        "outputId": "a65848ac-4b57-4ed5-f2ae-064fcaaf6996"
      },
      "source": [
        "# Pie Chart\n",
        "lbl =[cat+\": \"+str(round(cat_count[cat],3)) for cat in cat_count]\n",
        "fig = plt.figure(4, figsize=(12,12))\n",
        "ax = fig.add_subplot(211) \n",
        "patches,text = ax.pie(cat_count.values())\n",
        "ax.set_title(\"Fig1: Category Distribution Pie Chart\")\n",
        "ax2 = fig.add_subplot(212)\n",
        "ax2.axis(\"off\") \n",
        "ax2.legend(patches, lbl, loc=\"best\")\n",
        "# plt.show()"
      ],
      "execution_count": 147,
      "outputs": [
        {
          "output_type": "execute_result",
          "data": {
            "text/plain": [
              "<matplotlib.legend.Legend at 0x7f246dd40d50>"
            ]
          },
          "metadata": {
            "tags": []
          },
          "execution_count": 147
        },
        {
          "output_type": "display_data",
          "data": {
            "image/png": "[encoded data removed]",
            "text/plain": [
              "<Figure size 864x864 with 2 Axes>"
            ]
          },
          "metadata": {
            "tags": [],
            "needs_background": "light"
          }
        }
      ]
    },
    {
      "cell_type": "markdown",
      "metadata": {
        "id": "djCA0dR-13kX"
      },
      "source": [
        "### Model Setup"
      ]
    },
    {
      "cell_type": "code",
      "metadata": {
        "id": "mfONV40cfeJ-"
      },
      "source": [
        "\"\"\"\n",
        "This Function:\n",
        "1) Collects the data in the form of features and labels\n",
        "2) Applies a single Train-Test split\n",
        "3) Fits the model to the train data\n",
        "4) Predicts the categories corresponding to features in X_test\n",
        "5) Gives a classification matrix showing Precision, Recall, F1 scores of each\n",
        "   class along with their average values.\n",
        "\"\"\"\n",
        "def run_model_single_split(model,labelled,vect,categories_to_ignore=[],categories_to_merge=[],class_wt=False,class_model=\"\"):\n",
        "  x,y = [],[]\n",
        "  for i in labelled:\n",
        "    if i[1] in categories_to_ignore:\n",
        "      continue\n",
        "    else:\n",
        "       merge_found = False\n",
        "       for cat in categories_to_merge:\n",
        "        if i[1] in cat:\n",
        "          merge_found = True\n",
        "          y.append(cat[0])\n",
        "          break\n",
        "       if not merge_found:\n",
        "        y.append(i[1])\n",
        "    x.append(' '.join(i[0]))\n",
        "\n",
        "  le = preprocessing.LabelEncoder()\n",
        "  y = le.fit_transform(y)\n",
        "  uniq_labels = np.unique(y)\n",
        "\n",
        "  X_train, X_test, y_train, y_test = train_test_split(x, y, test_size=0.20,random_state=21)\n",
        "  X_train_matrix = vect.fit_transform(X_train)\n",
        "\n",
        "  if class_wt:\n",
        "    all = y_train\n",
        "    unique_classes = np.unique(all)\n",
        "    print(len(unique_classes))\n",
        "\n",
        "    c_w = class_weight.compute_class_weight('balanced', unique_classes, all)\n",
        "    if class_model == \"ComplementNB\":\n",
        "      model.fit(X_train_matrix,y_train,sample_weight=[c_w[i-1] for i in all])\n",
        "    elif class_model == \"XGBOOST\":\n",
        "      model = xgb.XGBClassifier(weights = [c_w[i-1] for i in all])\n",
        "      model.fit(X_train_matrix,y_train)\n",
        "  else:\n",
        "    model.fit(X_train_matrix, y_train)\n",
        "\n",
        "  X_test_matrix = vect.transform(X_test)\n",
        "  predicted_result = model.predict(X_test_matrix)\n",
        "  tgt = le.inverse_transform(list(set(y)))\n",
        "  print(classification_report(y_test,predicted_result,target_names=tgt,labels = uniq_labels))\n",
        "  return"
      ],
      "execution_count": 129,
      "outputs": []
    },
    {
      "cell_type": "code",
      "metadata": {
        "id": "-_ojJXFS1f0w"
      },
      "source": [
        "\"\"\"\n",
        "This Function:\n",
        "1) Collects the data in the form of features and labels\n",
        "2) Applies K-fold split of data\n",
        "   i.e for each fold, on split is taken as test data and others as train data\n",
        "3) Fits the model to the train data\n",
        "4) Predicts the categories corresponding to features in X_test\n",
        "5) Returns the mean precision, mean recall and mean f1 score of all the folds.\n",
        "\"\"\"\n",
        "def run_model(model,labelled,vect,categories_to_ignore=[],categories_to_merge=[],class_wt=False,class_model=\"\"):\n",
        "  x,y = [],[]\n",
        "  for i in labelled:\n",
        "    if i[1] in categories_to_ignore:\n",
        "      continue\n",
        "    else:\n",
        "       merge_found = False\n",
        "       for cat in categories_to_merge:\n",
        "        if i[1] in cat:\n",
        "          merge_found = True\n",
        "          y.append(cat[0])\n",
        "          break\n",
        "       if not merge_found:\n",
        "        y.append(i[1])\n",
        "    x.append(' '.join(i[0]))\n",
        "\n",
        "  le = preprocessing.LabelEncoder()\n",
        "  y = le.fit_transform(y)\n",
        "  uniq_labels = np.unique(y)\n",
        "\n",
        "  precision,recall,f1 = [],[],[]\n",
        "  kf = KFold(n_splits=5)\n",
        "  x,y = shuffle(x,y, random_state=0)\n",
        "  for train, test in kf.split(x):\n",
        "    print(train,test)\n",
        "    X_train, X_test, y_train, y_test = np.array(x)[train],np.array(x)[test],np.array(y)[train],np.array(y)[test]\n",
        "\n",
        "    X_train_matrix = vect.fit_transform(X_train)\n",
        "\n",
        "    if class_wt:\n",
        "      all = y_train\n",
        "      unique_classes = np.unique(all)\n",
        "      print(len(unique_classes))\n",
        "\n",
        "      c_w = class_weight.compute_class_weight('balanced', unique_classes, all)\n",
        "      if class_model == \"ComplementNB\":\n",
        "        model.fit(X_train_matrix,y_train,sample_weight=[c_w[i-1] for i in all])\n",
        "      elif class_model == \"XGBOOST\":\n",
        "        model = xgb.XGBClassifier(weights = [c_w[i-1] for i in all])\n",
        "        model.fit(X_train_matrix,y_train)\n",
        "    else:\n",
        "      model.fit(X_train_matrix, y_train)\n",
        "\n",
        "    X_test_matrix = vect.transform(X_test)\n",
        "    predicted_result = model.predict(X_test_matrix)\n",
        "    tgt = le.inverse_transform(list(set(y)))\n",
        "    precision.append(precision_score(y_test, predicted_result, average='macro'))\n",
        "    recall.append(recall_score(y_test, predicted_result, average='macro'))\n",
        "    f1.append(f1_score(y_test, predicted_result, average='macro'))\n",
        "  return mean(precision), mean(recall), mean(f1)"
      ],
      "execution_count": 116,
      "outputs": []
    },
    {
      "cell_type": "markdown",
      "metadata": {
        "id": "KBzTaAuOvLyk"
      },
      "source": [
        "The selection of models used for this task include MultinomialNB, Support Vector Classifier, Random Forests and XGBoost. \n",
        "\n",
        "**Intuition**: MultinomialNB and SVM are well used in text classification tasks hence these are being used.For Random Forests and XGBoost, these methods involve an ensemble of decision trees which could be used to mitigate the imbalance present in the dataset.\n",
        "\n",
        "As Random Forests and SVM already have support for balanced class weights, for XGBoost, we need to feed the class weights of each training sample while fitting the model. For the Naive Bayes case, there is an alternate model called Categorical Naive Bayes which is more suited for imbalanced classes, for which, class weights are shared as well.\n"
      ]
    },
    {
      "cell_type": "markdown",
      "metadata": {
        "id": "NUhAFox0wvfV"
      },
      "source": [
        "For each type of model, it is run in two different cases:\n",
        "\n",
        "\n",
        "*   A single split is done on the dataset into train and test splits. After   training and predicting the model on test data, we observe precision, recall and f1 scores of each class along with it's average\n",
        "*   In this case, we use K fold split on the dataset, where we take one fold for test data and the remaining for train data. We average the precision, recall and f1 scores over all the folds and return the mean.\n",
        "\n"
      ]
    },
    {
      "cell_type": "markdown",
      "metadata": {
        "id": "kvWnnDVTucGN"
      },
      "source": [
        "### Model 1: Multinomial NB"
      ]
    },
    {
      "cell_type": "markdown",
      "metadata": {
        "id": "66BMe5aQ3I2D"
      },
      "source": [
        "#### Using Count Vectorizer"
      ]
    },
    {
      "cell_type": "code",
      "metadata": {
        "colab": {
          "base_uri": "https://localhost:8080/"
        },
        "id": "OK107p8Bum_6",
        "outputId": "b52d3256-21ee-4140-d570-6085602742a2"
      },
      "source": [
        "vect = CountVectorizer()\n",
        "model = MultinomialNB()\n",
        "run_model_single_split(model,labelled,vect)"
      ],
      "execution_count": 133,
      "outputs": [
        {
          "output_type": "stream",
          "text": [
            "                                    precision    recall  f1-score   support\n",
            "\n",
            "            Automation & Robotics        0.00      0.00      0.00         0\n",
            "                       Automotive        0.92      0.99      0.96       186\n",
            "                        Baby Care        0.82      0.61      0.70        98\n",
            "            Bags, Wallets & Belts        0.81      0.48      0.60        54\n",
            "         Beauty and Personal Care        0.87      0.92      0.89       136\n",
            "            Cameras & Accessories        1.00      0.35      0.52        23\n",
            "                         Clothing        0.98      0.99      0.98      1205\n",
            "                        Computers        0.78      0.75      0.76       118\n",
            "                          Eyewear        1.00      1.00      1.00         1\n",
            "                 Food & Nutrition        0.00      0.00      0.00         0\n",
            "                         Footwear        0.97      0.98      0.98       238\n",
            "                        Furniture        0.94      0.94      0.94        31\n",
            "                           Gaming        0.50      0.40      0.44         5\n",
            "Health & Personal Care Appliances        1.00      0.44      0.62         9\n",
            "                   Home & Kitchen        1.00      0.33      0.50         3\n",
            "       Home Decor & Festive Needs        0.88      0.99      0.93       178\n",
            "               Home Entertainment        0.00      0.00      0.00         4\n",
            "                  Home Furnishing        0.93      0.99      0.96       155\n",
            "                 Home Improvement        1.00      0.62      0.77        16\n",
            "               Household Supplies        0.00      0.00      0.00         0\n",
            "                        Jewellery        0.87      1.00      0.93       721\n",
            "                 Kitchen & Dining        0.93      0.89      0.91       144\n",
            "            Mobiles & Accessories        0.97      0.84      0.90       237\n",
            "                Pens & Stationery        0.95      0.51      0.67        72\n",
            "                     Pet Supplies        1.00      0.50      0.67         4\n",
            "                 Sports & Fitness        0.92      0.37      0.52        30\n",
            "                       Sunglasses        1.00      1.00      1.00         9\n",
            "                 Tools & Hardware        0.98      0.95      0.96        91\n",
            "           Toys & School Supplies        0.71      0.80      0.75        61\n",
            "                          Watches        0.91      0.97      0.94       104\n",
            "           Wearable Smart Devices        0.00      0.00      0.00         0\n",
            "                           eBooks        1.00      0.50      0.67         2\n",
            "\n",
            "                         micro avg       0.92      0.92      0.92      3935\n",
            "                         macro avg       0.77      0.63      0.67      3935\n",
            "                      weighted avg       0.92      0.92      0.92      3935\n",
            "\n"
          ],
          "name": "stdout"
        },
        {
          "output_type": "stream",
          "text": [
            "/usr/local/lib/python3.7/dist-packages/sklearn/metrics/_classification.py:1272: UndefinedMetricWarning: Precision and F-score are ill-defined and being set to 0.0 in labels with no predicted samples. Use `zero_division` parameter to control this behavior.\n",
            "  _warn_prf(average, modifier, msg_start, len(result))\n",
            "/usr/local/lib/python3.7/dist-packages/sklearn/metrics/_classification.py:1272: UndefinedMetricWarning: Recall and F-score are ill-defined and being set to 0.0 in labels with no true samples. Use `zero_division` parameter to control this behavior.\n",
            "  _warn_prf(average, modifier, msg_start, len(result))\n"
          ],
          "name": "stderr"
        }
      ]
    },
    {
      "cell_type": "code",
      "metadata": {
        "colab": {
          "base_uri": "https://localhost:8080/"
        },
        "id": "cHaprm17efRa",
        "outputId": "60c7386b-ab21-49b8-e62e-496701804bcd"
      },
      "source": [
        "vect = CountVectorizer()\n",
        "model = MultinomialNB()\n",
        "run_model(model,labelled,vect)"
      ],
      "execution_count": 124,
      "outputs": [
        {
          "output_type": "stream",
          "text": [
            "[ 3935  3936  3937 ... 19669 19670 19671] [   0    1    2 ... 3932 3933 3934]\n"
          ],
          "name": "stdout"
        },
        {
          "output_type": "stream",
          "text": [
            "/usr/local/lib/python3.7/dist-packages/sklearn/metrics/_classification.py:1272: UndefinedMetricWarning: Precision is ill-defined and being set to 0.0 in labels with no predicted samples. Use `zero_division` parameter to control this behavior.\n",
            "  _warn_prf(average, modifier, msg_start, len(result))\n"
          ],
          "name": "stderr"
        },
        {
          "output_type": "stream",
          "text": [
            "[    0     1     2 ... 19669 19670 19671] [3935 3936 3937 ... 7867 7868 7869]\n"
          ],
          "name": "stdout"
        },
        {
          "output_type": "stream",
          "text": [
            "/usr/local/lib/python3.7/dist-packages/sklearn/metrics/_classification.py:1272: UndefinedMetricWarning: Precision is ill-defined and being set to 0.0 in labels with no predicted samples. Use `zero_division` parameter to control this behavior.\n",
            "  _warn_prf(average, modifier, msg_start, len(result))\n"
          ],
          "name": "stderr"
        },
        {
          "output_type": "stream",
          "text": [
            "[    0     1     2 ... 19669 19670 19671] [ 7870  7871  7872 ... 11801 11802 11803]\n"
          ],
          "name": "stdout"
        },
        {
          "output_type": "stream",
          "text": [
            "/usr/local/lib/python3.7/dist-packages/sklearn/metrics/_classification.py:1272: UndefinedMetricWarning: Precision is ill-defined and being set to 0.0 in labels with no predicted samples. Use `zero_division` parameter to control this behavior.\n",
            "  _warn_prf(average, modifier, msg_start, len(result))\n"
          ],
          "name": "stderr"
        },
        {
          "output_type": "stream",
          "text": [
            "[    0     1     2 ... 19669 19670 19671] [11804 11805 11806 ... 15735 15736 15737]\n"
          ],
          "name": "stdout"
        },
        {
          "output_type": "stream",
          "text": [
            "/usr/local/lib/python3.7/dist-packages/sklearn/metrics/_classification.py:1272: UndefinedMetricWarning: Precision is ill-defined and being set to 0.0 in labels with no predicted samples. Use `zero_division` parameter to control this behavior.\n",
            "  _warn_prf(average, modifier, msg_start, len(result))\n"
          ],
          "name": "stderr"
        },
        {
          "output_type": "stream",
          "text": [
            "[    0     1     2 ... 15735 15736 15737] [15738 15739 15740 ... 19669 19670 19671]\n"
          ],
          "name": "stdout"
        },
        {
          "output_type": "stream",
          "text": [
            "/usr/local/lib/python3.7/dist-packages/sklearn/metrics/_classification.py:1272: UndefinedMetricWarning: Precision is ill-defined and being set to 0.0 in labels with no predicted samples. Use `zero_division` parameter to control this behavior.\n",
            "  _warn_prf(average, modifier, msg_start, len(result))\n"
          ],
          "name": "stderr"
        },
        {
          "output_type": "execute_result",
          "data": {
            "text/plain": [
              "(0.8254316509044279, 0.677172984083955, 0.7177398778327815)"
            ]
          },
          "metadata": {
            "tags": []
          },
          "execution_count": 124
        }
      ]
    },
    {
      "cell_type": "markdown",
      "metadata": {
        "id": "nul99Oc13Mnu"
      },
      "source": [
        "#### Using TF-IDF Vectorizer (Word Level)"
      ]
    },
    {
      "cell_type": "code",
      "metadata": {
        "colab": {
          "base_uri": "https://localhost:8080/"
        },
        "id": "44b1aqCpwCKT",
        "outputId": "8e636a0f-56c6-4096-c1e8-f33e3c383be7"
      },
      "source": [
        "vect = TfidfVectorizer()\n",
        "model = MultinomialNB()\n",
        "run_model_single_split(model,labelled,vect)"
      ],
      "execution_count": 135,
      "outputs": [
        {
          "output_type": "stream",
          "text": [
            "                                    precision    recall  f1-score   support\n",
            "\n",
            "            Automation & Robotics        0.00      0.00      0.00         0\n",
            "                       Automotive        0.94      0.96      0.95       186\n",
            "                        Baby Care        0.97      0.38      0.54        98\n",
            "            Bags, Wallets & Belts        1.00      0.07      0.14        54\n",
            "         Beauty and Personal Care        1.00      0.58      0.73       136\n",
            "            Cameras & Accessories        0.00      0.00      0.00        23\n",
            "                         Clothing        0.84      1.00      0.91      1205\n",
            "                        Computers        0.99      0.69      0.82       118\n",
            "                          Eyewear        0.00      0.00      0.00         1\n",
            "                 Food & Nutrition        0.00      0.00      0.00         0\n",
            "                         Footwear        0.99      0.92      0.95       238\n",
            "                        Furniture        0.95      0.58      0.72        31\n",
            "                           Gaming        0.00      0.00      0.00         5\n",
            "Health & Personal Care Appliances        0.00      0.00      0.00         9\n",
            "                   Home & Kitchen        0.00      0.00      0.00         3\n",
            "       Home Decor & Festive Needs        0.89      0.87      0.88       178\n",
            "               Home Entertainment        0.00      0.00      0.00         4\n",
            "                  Home Furnishing        0.95      0.80      0.87       155\n",
            "                 Home Improvement        0.00      0.00      0.00        16\n",
            "               Household Supplies        0.00      0.00      0.00         0\n",
            "                        Jewellery        0.72      0.99      0.83       721\n",
            "                 Kitchen & Dining        0.97      0.70      0.81       144\n",
            "            Mobiles & Accessories        0.89      0.94      0.92       237\n",
            "                Pens & Stationery        1.00      0.25      0.40        72\n",
            "                     Pet Supplies        0.00      0.00      0.00         4\n",
            "                 Sports & Fitness        0.00      0.00      0.00        30\n",
            "                       Sunglasses        0.00      0.00      0.00         9\n",
            "                 Tools & Hardware        1.00      0.86      0.92        91\n",
            "           Toys & School Supplies        0.83      0.16      0.27        61\n",
            "                          Watches        1.00      0.93      0.97       104\n",
            "           Wearable Smart Devices        0.00      0.00      0.00         0\n",
            "                           eBooks        0.00      0.00      0.00         2\n",
            "\n",
            "                         micro avg       0.85      0.85      0.85      3935\n",
            "                         macro avg       0.50      0.37      0.39      3935\n",
            "                      weighted avg       0.85      0.85      0.82      3935\n",
            "\n"
          ],
          "name": "stdout"
        },
        {
          "output_type": "stream",
          "text": [
            "/usr/local/lib/python3.7/dist-packages/sklearn/metrics/_classification.py:1272: UndefinedMetricWarning: Precision and F-score are ill-defined and being set to 0.0 in labels with no predicted samples. Use `zero_division` parameter to control this behavior.\n",
            "  _warn_prf(average, modifier, msg_start, len(result))\n",
            "/usr/local/lib/python3.7/dist-packages/sklearn/metrics/_classification.py:1272: UndefinedMetricWarning: Recall and F-score are ill-defined and being set to 0.0 in labels with no true samples. Use `zero_division` parameter to control this behavior.\n",
            "  _warn_prf(average, modifier, msg_start, len(result))\n"
          ],
          "name": "stderr"
        }
      ]
    },
    {
      "cell_type": "code",
      "metadata": {
        "colab": {
          "base_uri": "https://localhost:8080/"
        },
        "id": "IQIqq9rqejNa",
        "outputId": "fad37474-29fb-4ac4-acb0-1d0502d035af"
      },
      "source": [
        "vect = TfidfVectorizer()\n",
        "model = MultinomialNB()\n",
        "run_model(model,labelled,vect)"
      ],
      "execution_count": 125,
      "outputs": [
        {
          "output_type": "stream",
          "text": [
            "[ 3935  3936  3937 ... 19669 19670 19671] [   0    1    2 ... 3932 3933 3934]\n"
          ],
          "name": "stdout"
        },
        {
          "output_type": "stream",
          "text": [
            "/usr/local/lib/python3.7/dist-packages/sklearn/metrics/_classification.py:1272: UndefinedMetricWarning: Precision is ill-defined and being set to 0.0 in labels with no predicted samples. Use `zero_division` parameter to control this behavior.\n",
            "  _warn_prf(average, modifier, msg_start, len(result))\n"
          ],
          "name": "stderr"
        },
        {
          "output_type": "stream",
          "text": [
            "[    0     1     2 ... 19669 19670 19671] [3935 3936 3937 ... 7867 7868 7869]\n"
          ],
          "name": "stdout"
        },
        {
          "output_type": "stream",
          "text": [
            "/usr/local/lib/python3.7/dist-packages/sklearn/metrics/_classification.py:1272: UndefinedMetricWarning: Precision is ill-defined and being set to 0.0 in labels with no predicted samples. Use `zero_division` parameter to control this behavior.\n",
            "  _warn_prf(average, modifier, msg_start, len(result))\n"
          ],
          "name": "stderr"
        },
        {
          "output_type": "stream",
          "text": [
            "[    0     1     2 ... 19669 19670 19671] [ 7870  7871  7872 ... 11801 11802 11803]\n"
          ],
          "name": "stdout"
        },
        {
          "output_type": "stream",
          "text": [
            "/usr/local/lib/python3.7/dist-packages/sklearn/metrics/_classification.py:1272: UndefinedMetricWarning: Precision is ill-defined and being set to 0.0 in labels with no predicted samples. Use `zero_division` parameter to control this behavior.\n",
            "  _warn_prf(average, modifier, msg_start, len(result))\n"
          ],
          "name": "stderr"
        },
        {
          "output_type": "stream",
          "text": [
            "[    0     1     2 ... 19669 19670 19671] [11804 11805 11806 ... 15735 15736 15737]\n"
          ],
          "name": "stdout"
        },
        {
          "output_type": "stream",
          "text": [
            "/usr/local/lib/python3.7/dist-packages/sklearn/metrics/_classification.py:1272: UndefinedMetricWarning: Precision is ill-defined and being set to 0.0 in labels with no predicted samples. Use `zero_division` parameter to control this behavior.\n",
            "  _warn_prf(average, modifier, msg_start, len(result))\n"
          ],
          "name": "stderr"
        },
        {
          "output_type": "stream",
          "text": [
            "[    0     1     2 ... 15735 15736 15737] [15738 15739 15740 ... 19669 19670 19671]\n"
          ],
          "name": "stdout"
        },
        {
          "output_type": "stream",
          "text": [
            "/usr/local/lib/python3.7/dist-packages/sklearn/metrics/_classification.py:1272: UndefinedMetricWarning: Precision is ill-defined and being set to 0.0 in labels with no predicted samples. Use `zero_division` parameter to control this behavior.\n",
            "  _warn_prf(average, modifier, msg_start, len(result))\n"
          ],
          "name": "stderr"
        },
        {
          "output_type": "execute_result",
          "data": {
            "text/plain": [
              "(0.556675328848261, 0.39878732450468324, 0.42922535143292745)"
            ]
          },
          "metadata": {
            "tags": []
          },
          "execution_count": 125
        }
      ]
    },
    {
      "cell_type": "markdown",
      "metadata": {
        "id": "2LaWEWj28XpN"
      },
      "source": [
        "#### Using Merged and Ignored Categories"
      ]
    },
    {
      "cell_type": "code",
      "metadata": {
        "id": "nwsj3TAk8amB"
      },
      "source": [
        "ignore_categories = ['eBooks ','Pet Supplies ','Health & Personal Care Appliances ', 'Household Supplies ']\n",
        "merge_categories = [['Sunglasses ', 'Eyewear '],['Kitchen & Dining ','Home & Kitchen  ']]\n"
      ],
      "execution_count": 57,
      "outputs": []
    },
    {
      "cell_type": "code",
      "metadata": {
        "colab": {
          "base_uri": "https://localhost:8080/"
        },
        "id": "cweWObmw9HaV",
        "outputId": "15c5a051-7a3e-41ce-91fa-22cb61ad68f8"
      },
      "source": [
        "vect = CountVectorizer()\n",
        "model = MultinomialNB()\n",
        "run_model_single_split(model,labelled,vect,ignore_categories,merge_categories)"
      ],
      "execution_count": 26,
      "outputs": [
        {
          "output_type": "stream",
          "text": [
            "                             precision    recall  f1-score   support\n",
            "\n",
            "                Automotive        0.92      0.98      0.95       197\n",
            "                 Baby Care        0.77      0.62      0.69       100\n",
            "     Bags, Wallets & Belts        0.85      0.56      0.67        63\n",
            "  Beauty and Personal Care        0.93      0.94      0.93       141\n",
            "     Cameras & Accessories        1.00      0.40      0.57        15\n",
            "                  Clothing        0.98      0.98      0.98      1245\n",
            "                 Computers        0.88      0.73      0.80       129\n",
            "                  Footwear        0.97      0.94      0.96       241\n",
            "                 Furniture        0.92      0.97      0.94        35\n",
            "                    Gaming        0.60      0.60      0.60         5\n",
            "            Home & Kitchen        1.00      0.33      0.50         6\n",
            "Home Decor & Festive Needs        0.86      0.99      0.92       170\n",
            "        Home Entertainment        0.00      0.00      0.00         4\n",
            "           Home Furnishing        0.90      0.99      0.94       125\n",
            "          Home Improvement        1.00      0.38      0.55        21\n",
            "        Household Supplies        0.00      0.00      0.00         1\n",
            "                 Jewellery        0.87      1.00      0.93       713\n",
            "          Kitchen & Dining        0.97      0.90      0.93       134\n",
            "     Mobiles & Accessories        0.98      0.94      0.96       226\n",
            "         Pens & Stationery        0.97      0.57      0.72        65\n",
            "          Sports & Fitness        1.00      0.48      0.65        33\n",
            "                Sunglasses        1.00      1.00      1.00        10\n",
            "          Tools & Hardware        0.86      0.92      0.89        75\n",
            "    Toys & School Supplies        0.83      0.79      0.81        61\n",
            "                   Watches        0.95      0.97      0.96       102\n",
            "\n",
            "                   accuracy                           0.93      3917\n",
            "                  macro avg       0.84      0.72      0.75      3917\n",
            "               weighted avg       0.93      0.93      0.92      3917\n",
            "\n"
          ],
          "name": "stdout"
        },
        {
          "output_type": "stream",
          "text": [
            "/usr/local/lib/python3.7/dist-packages/sklearn/metrics/_classification.py:1272: UndefinedMetricWarning: Precision and F-score are ill-defined and being set to 0.0 in labels with no predicted samples. Use `zero_division` parameter to control this behavior.\n",
            "  _warn_prf(average, modifier, msg_start, len(result))\n"
          ],
          "name": "stderr"
        }
      ]
    },
    {
      "cell_type": "code",
      "metadata": {
        "colab": {
          "base_uri": "https://localhost:8080/"
        },
        "id": "dL-ykALt9LUQ",
        "outputId": "42911443-9f89-4365-9495-2738a0d3b3d4"
      },
      "source": [
        "vect = TfidfVectorizer()\n",
        "model = MultinomialNB()\n",
        "run_model_single_split(model,labelled,vect,ignore_categories,merge_categories)"
      ],
      "execution_count": 27,
      "outputs": [
        {
          "output_type": "stream",
          "text": [
            "                             precision    recall  f1-score   support\n",
            "\n",
            "                Automotive        0.94      0.95      0.94       197\n",
            "                 Baby Care        0.97      0.39      0.56       100\n",
            "     Bags, Wallets & Belts        1.00      0.08      0.15        63\n",
            "  Beauty and Personal Care        1.00      0.68      0.81       141\n",
            "     Cameras & Accessories        0.00      0.00      0.00        15\n",
            "                  Clothing        0.86      1.00      0.92      1245\n",
            "                 Computers        1.00      0.71      0.83       129\n",
            "                  Footwear        1.00      0.93      0.96       241\n",
            "                 Furniture        0.92      0.69      0.79        35\n",
            "                    Gaming        0.00      0.00      0.00         5\n",
            "            Home & Kitchen        0.00      0.00      0.00         6\n",
            "Home Decor & Festive Needs        0.90      0.85      0.88       170\n",
            "        Home Entertainment        0.00      0.00      0.00         4\n",
            "           Home Furnishing        0.93      0.82      0.87       125\n",
            "          Home Improvement        0.00      0.00      0.00        21\n",
            "        Household Supplies        0.00      0.00      0.00         1\n",
            "                 Jewellery        0.73      1.00      0.84       713\n",
            "          Kitchen & Dining        0.98      0.75      0.85       134\n",
            "     Mobiles & Accessories        0.87      0.96      0.91       226\n",
            "         Pens & Stationery        1.00      0.20      0.33        65\n",
            "          Sports & Fitness        0.00      0.00      0.00        33\n",
            "                Sunglasses        0.00      0.00      0.00        10\n",
            "          Tools & Hardware        1.00      0.87      0.93        75\n",
            "    Toys & School Supplies        0.92      0.18      0.30        61\n",
            "                   Watches        1.00      0.94      0.97       102\n",
            "\n",
            "                   accuracy                           0.86      3917\n",
            "                  macro avg       0.64      0.48      0.51      3917\n",
            "               weighted avg       0.86      0.86      0.83      3917\n",
            "\n"
          ],
          "name": "stdout"
        },
        {
          "output_type": "stream",
          "text": [
            "/usr/local/lib/python3.7/dist-packages/sklearn/metrics/_classification.py:1272: UndefinedMetricWarning: Precision and F-score are ill-defined and being set to 0.0 in labels with no predicted samples. Use `zero_division` parameter to control this behavior.\n",
            "  _warn_prf(average, modifier, msg_start, len(result))\n"
          ],
          "name": "stderr"
        }
      ]
    },
    {
      "cell_type": "markdown",
      "metadata": {
        "id": "M6ccoqO_YE9X"
      },
      "source": [
        "### Model 2: Complementary NB"
      ]
    },
    {
      "cell_type": "markdown",
      "metadata": {
        "id": "3aloMT5vrLOH"
      },
      "source": [
        "#### Using Count Vectorizer"
      ]
    },
    {
      "cell_type": "code",
      "metadata": {
        "id": "rKmklDJT9bO3"
      },
      "source": [
        "ignore_categories = ['eBooks ','Pet Supplies ','Health & Personal Care Appliances ', 'Household Supplies ']\n",
        "merge_categories = [['Sunglasses ', 'Eyewear '],['Kitchen & Dining ','Home & Kitchen  ']]\n"
      ],
      "execution_count": 15,
      "outputs": []
    },
    {
      "cell_type": "code",
      "metadata": {
        "colab": {
          "base_uri": "https://localhost:8080/"
        },
        "id": "EbQ1c7ZyYL_h",
        "outputId": "ea986955-000c-4808-cf00-6e77053080ad"
      },
      "source": [
        "vect = CountVectorizer()\n",
        "model = ComplementNB()\n",
        "run_model_single_split(model,labelled,vect,class_wt=True,class_model=\"ComplementNB\")"
      ],
      "execution_count": 130,
      "outputs": [
        {
          "output_type": "stream",
          "text": [
            "32\n",
            "                                    precision    recall  f1-score   support\n",
            "\n",
            "            Automation & Robotics        0.00      0.00      0.00         0\n",
            "                       Automotive        0.44      0.99      0.61       186\n",
            "                        Baby Care        0.00      0.00      0.00        98\n",
            "            Bags, Wallets & Belts        0.85      0.20      0.33        54\n",
            "         Beauty and Personal Care        0.97      0.48      0.64       136\n",
            "            Cameras & Accessories        1.00      0.43      0.61        23\n",
            "                         Clothing        0.95      0.98      0.96      1205\n",
            "                        Computers        1.00      0.26      0.42       118\n",
            "                          Eyewear        0.00      0.00      0.00         1\n",
            "                 Food & Nutrition        0.00      0.00      0.00         0\n",
            "                         Footwear        0.79      0.99      0.88       238\n",
            "                        Furniture        1.00      0.16      0.28        31\n",
            "                           Gaming        1.00      0.60      0.75         5\n",
            "Health & Personal Care Appliances        1.00      0.89      0.94         9\n",
            "                   Home & Kitchen        0.00      0.00      0.00         3\n",
            "       Home Decor & Festive Needs        0.69      0.96      0.80       178\n",
            "               Home Entertainment        0.00      0.00      0.00         4\n",
            "                  Home Furnishing        0.86      0.94      0.90       155\n",
            "                 Home Improvement        1.00      0.19      0.32        16\n",
            "               Household Supplies        0.00      0.00      0.00         0\n",
            "                        Jewellery        0.79      1.00      0.88       721\n",
            "                 Kitchen & Dining        0.99      0.64      0.78       144\n",
            "            Mobiles & Accessories        0.94      0.66      0.78       237\n",
            "                Pens & Stationery        0.96      0.31      0.46        72\n",
            "                     Pet Supplies        1.00      0.50      0.67         4\n",
            "                 Sports & Fitness        0.91      0.70      0.79        30\n",
            "                       Sunglasses        1.00      0.89      0.94         9\n",
            "                 Tools & Hardware        0.93      0.93      0.93        91\n",
            "           Toys & School Supplies        0.86      0.30      0.44        61\n",
            "                          Watches        1.00      0.68      0.81       104\n",
            "           Wearable Smart Devices        0.00      0.00      0.00         0\n",
            "                           eBooks        0.17      0.50      0.25         2\n",
            "\n",
            "                         micro avg       0.83      0.83      0.83      3935\n",
            "                         macro avg       0.66      0.47      0.51      3935\n",
            "                      weighted avg       0.85      0.83      0.80      3935\n",
            "\n"
          ],
          "name": "stdout"
        },
        {
          "output_type": "stream",
          "text": [
            "/usr/local/lib/python3.7/dist-packages/sklearn/metrics/_classification.py:1272: UndefinedMetricWarning: Precision and F-score are ill-defined and being set to 0.0 in labels with no predicted samples. Use `zero_division` parameter to control this behavior.\n",
            "  _warn_prf(average, modifier, msg_start, len(result))\n",
            "/usr/local/lib/python3.7/dist-packages/sklearn/metrics/_classification.py:1272: UndefinedMetricWarning: Recall and F-score are ill-defined and being set to 0.0 in labels with no true samples. Use `zero_division` parameter to control this behavior.\n",
            "  _warn_prf(average, modifier, msg_start, len(result))\n"
          ],
          "name": "stderr"
        }
      ]
    },
    {
      "cell_type": "code",
      "metadata": {
        "colab": {
          "base_uri": "https://localhost:8080/"
        },
        "id": "Yh-Js0XSd8dE",
        "outputId": "ba88e8b7-a604-44bf-f363-907d1175a9b5"
      },
      "source": [
        "vect = CountVectorizer()\n",
        "model = ComplementNB()\n",
        "run_model(model,labelled,vect,class_wt=True,class_model=\"ComplementNB\")"
      ],
      "execution_count": 122,
      "outputs": [
        {
          "output_type": "stream",
          "text": [
            "[ 3935  3936  3937 ... 19669 19670 19671] [   0    1    2 ... 3932 3933 3934]\n",
            "32\n"
          ],
          "name": "stdout"
        },
        {
          "output_type": "stream",
          "text": [
            "/usr/local/lib/python3.7/dist-packages/sklearn/metrics/_classification.py:1272: UndefinedMetricWarning: Recall is ill-defined and being set to 0.0 in labels with no true samples. Use `zero_division` parameter to control this behavior.\n",
            "  _warn_prf(average, modifier, msg_start, len(result))\n"
          ],
          "name": "stderr"
        },
        {
          "output_type": "stream",
          "text": [
            "[    0     1     2 ... 19669 19670 19671] [3935 3936 3937 ... 7867 7868 7869]\n",
            "32\n"
          ],
          "name": "stdout"
        },
        {
          "output_type": "stream",
          "text": [
            "/usr/local/lib/python3.7/dist-packages/sklearn/metrics/_classification.py:1272: UndefinedMetricWarning: Precision is ill-defined and being set to 0.0 in labels with no predicted samples. Use `zero_division` parameter to control this behavior.\n",
            "  _warn_prf(average, modifier, msg_start, len(result))\n"
          ],
          "name": "stderr"
        },
        {
          "output_type": "stream",
          "text": [
            "[    0     1     2 ... 19669 19670 19671] [ 7870  7871  7872 ... 11801 11802 11803]\n",
            "31\n"
          ],
          "name": "stdout"
        },
        {
          "output_type": "stream",
          "text": [
            "/usr/local/lib/python3.7/dist-packages/sklearn/metrics/_classification.py:1272: UndefinedMetricWarning: Precision is ill-defined and being set to 0.0 in labels with no predicted samples. Use `zero_division` parameter to control this behavior.\n",
            "  _warn_prf(average, modifier, msg_start, len(result))\n",
            "/usr/local/lib/python3.7/dist-packages/sklearn/metrics/_classification.py:1272: UndefinedMetricWarning: Recall is ill-defined and being set to 0.0 in labels with no true samples. Use `zero_division` parameter to control this behavior.\n",
            "  _warn_prf(average, modifier, msg_start, len(result))\n"
          ],
          "name": "stderr"
        },
        {
          "output_type": "stream",
          "text": [
            "[    0     1     2 ... 19669 19670 19671] [11804 11805 11806 ... 15735 15736 15737]\n",
            "32\n"
          ],
          "name": "stdout"
        },
        {
          "output_type": "stream",
          "text": [
            "/usr/local/lib/python3.7/dist-packages/sklearn/metrics/_classification.py:1272: UndefinedMetricWarning: Precision is ill-defined and being set to 0.0 in labels with no predicted samples. Use `zero_division` parameter to control this behavior.\n",
            "  _warn_prf(average, modifier, msg_start, len(result))\n"
          ],
          "name": "stderr"
        },
        {
          "output_type": "stream",
          "text": [
            "[    0     1     2 ... 15735 15736 15737] [15738 15739 15740 ... 19669 19670 19671]\n",
            "32\n"
          ],
          "name": "stdout"
        },
        {
          "output_type": "stream",
          "text": [
            "/usr/local/lib/python3.7/dist-packages/sklearn/metrics/_classification.py:1272: UndefinedMetricWarning: Precision is ill-defined and being set to 0.0 in labels with no predicted samples. Use `zero_division` parameter to control this behavior.\n",
            "  _warn_prf(average, modifier, msg_start, len(result))\n"
          ],
          "name": "stderr"
        },
        {
          "output_type": "execute_result",
          "data": {
            "text/plain": [
              "(0.7748355212470442, 0.624994000186398, 0.6250430807996481)"
            ]
          },
          "metadata": {
            "tags": []
          },
          "execution_count": 122
        }
      ]
    },
    {
      "cell_type": "markdown",
      "metadata": {
        "id": "ekOzULwnc2OI"
      },
      "source": [
        "#### Using TF-IDF vectorizer"
      ]
    },
    {
      "cell_type": "code",
      "metadata": {
        "colab": {
          "base_uri": "https://localhost:8080/"
        },
        "id": "6uyHo8Krc5nm",
        "outputId": "a95c9f57-d35d-45d9-aa3e-8e5ff54e7c37"
      },
      "source": [
        "vect = TfidfVectorizer()\n",
        "model = ComplementNB()\n",
        "run_model_single_split(model,labelled,vect,class_wt=True)"
      ],
      "execution_count": 36,
      "outputs": [
        {
          "output_type": "stream",
          "text": [
            "32\n",
            "                                    precision    recall  f1-score   support\n",
            "\n",
            "            Automation & Robotics        0.00      0.00      0.00         0\n",
            "                       Automotive        0.94      0.97      0.96       186\n",
            "                        Baby Care        0.57      0.82      0.67        98\n",
            "            Bags, Wallets & Belts        0.86      0.94      0.90        54\n",
            "         Beauty and Personal Care        0.97      0.89      0.93       136\n",
            "            Cameras & Accessories        0.85      0.96      0.90        23\n",
            "                         Clothing        1.00      0.94      0.97      1205\n",
            "                        Computers        0.92      0.93      0.93       118\n",
            "                          Eyewear        0.33      1.00      0.50         1\n",
            "                 Food & Nutrition        0.00      0.00      0.00         0\n",
            "                         Footwear        0.97      1.00      0.98       238\n",
            "                        Furniture        0.77      0.97      0.86        31\n",
            "                           Gaming        0.21      0.80      0.33         5\n",
            "Health & Personal Care Appliances        0.47      1.00      0.64         9\n",
            "                   Home & Kitchen        0.43      1.00      0.60         3\n",
            "       Home Decor & Festive Needs        0.94      0.89      0.92       178\n",
            "               Home Entertainment        0.36      1.00      0.53         4\n",
            "                  Home Furnishing        0.94      0.95      0.94       155\n",
            "                 Home Improvement        0.83      0.94      0.88        16\n",
            "               Household Supplies        0.00      0.00      0.00         0\n",
            "                        Jewellery        1.00      0.98      0.99       721\n",
            "                 Kitchen & Dining        0.94      0.90      0.92       144\n",
            "            Mobiles & Accessories        0.98      0.85      0.91       237\n",
            "                Pens & Stationery        0.92      0.67      0.77        72\n",
            "                     Pet Supplies        0.31      1.00      0.47         4\n",
            "                 Sports & Fitness        0.79      0.87      0.83        30\n",
            "                       Sunglasses        0.82      1.00      0.90         9\n",
            "                 Tools & Hardware        0.91      0.95      0.93        91\n",
            "           Toys & School Supplies        0.71      0.82      0.76        61\n",
            "                          Watches        1.00      0.98      0.99       104\n",
            "           Wearable Smart Devices        0.00      0.00      0.00         0\n",
            "                           eBooks        0.14      0.50      0.22         2\n",
            "\n",
            "                         micro avg       0.93      0.93      0.93      3935\n",
            "                         macro avg       0.65      0.80      0.69      3935\n",
            "                      weighted avg       0.95      0.93      0.94      3935\n",
            "\n"
          ],
          "name": "stdout"
        },
        {
          "output_type": "stream",
          "text": [
            "/usr/local/lib/python3.7/dist-packages/sklearn/metrics/_classification.py:1272: UndefinedMetricWarning: Precision and F-score are ill-defined and being set to 0.0 in labels with no predicted samples. Use `zero_division` parameter to control this behavior.\n",
            "  _warn_prf(average, modifier, msg_start, len(result))\n",
            "/usr/local/lib/python3.7/dist-packages/sklearn/metrics/_classification.py:1272: UndefinedMetricWarning: Recall and F-score are ill-defined and being set to 0.0 in labels with no true samples. Use `zero_division` parameter to control this behavior.\n",
            "  _warn_prf(average, modifier, msg_start, len(result))\n"
          ],
          "name": "stderr"
        }
      ]
    },
    {
      "cell_type": "code",
      "metadata": {
        "colab": {
          "base_uri": "https://localhost:8080/"
        },
        "id": "E9GvYGMxQduO",
        "outputId": "222a2d87-31e3-468f-caff-bb03d94795a1"
      },
      "source": [
        "vect = TfidfVectorizer()\n",
        "model = ComplementNB()\n",
        "run_model(model,labelled,vect,class_wt=True,class_model=\"ComplementNB\")"
      ],
      "execution_count": 123,
      "outputs": [
        {
          "output_type": "stream",
          "text": [
            "[ 3935  3936  3937 ... 19669 19670 19671] [   0    1    2 ... 3932 3933 3934]\n",
            "32\n"
          ],
          "name": "stdout"
        },
        {
          "output_type": "stream",
          "text": [
            "/usr/local/lib/python3.7/dist-packages/sklearn/metrics/_classification.py:1272: UndefinedMetricWarning: Precision is ill-defined and being set to 0.0 in labels with no predicted samples. Use `zero_division` parameter to control this behavior.\n",
            "  _warn_prf(average, modifier, msg_start, len(result))\n",
            "/usr/local/lib/python3.7/dist-packages/sklearn/metrics/_classification.py:1272: UndefinedMetricWarning: Recall is ill-defined and being set to 0.0 in labels with no true samples. Use `zero_division` parameter to control this behavior.\n",
            "  _warn_prf(average, modifier, msg_start, len(result))\n"
          ],
          "name": "stderr"
        },
        {
          "output_type": "stream",
          "text": [
            "[    0     1     2 ... 19669 19670 19671] [3935 3936 3937 ... 7867 7868 7869]\n",
            "32\n"
          ],
          "name": "stdout"
        },
        {
          "output_type": "stream",
          "text": [
            "/usr/local/lib/python3.7/dist-packages/sklearn/metrics/_classification.py:1272: UndefinedMetricWarning: Precision is ill-defined and being set to 0.0 in labels with no predicted samples. Use `zero_division` parameter to control this behavior.\n",
            "  _warn_prf(average, modifier, msg_start, len(result))\n"
          ],
          "name": "stderr"
        },
        {
          "output_type": "stream",
          "text": [
            "[    0     1     2 ... 19669 19670 19671] [ 7870  7871  7872 ... 11801 11802 11803]\n",
            "31\n"
          ],
          "name": "stdout"
        },
        {
          "output_type": "stream",
          "text": [
            "/usr/local/lib/python3.7/dist-packages/sklearn/metrics/_classification.py:1272: UndefinedMetricWarning: Precision is ill-defined and being set to 0.0 in labels with no predicted samples. Use `zero_division` parameter to control this behavior.\n",
            "  _warn_prf(average, modifier, msg_start, len(result))\n",
            "/usr/local/lib/python3.7/dist-packages/sklearn/metrics/_classification.py:1272: UndefinedMetricWarning: Recall is ill-defined and being set to 0.0 in labels with no true samples. Use `zero_division` parameter to control this behavior.\n",
            "  _warn_prf(average, modifier, msg_start, len(result))\n"
          ],
          "name": "stderr"
        },
        {
          "output_type": "stream",
          "text": [
            "[    0     1     2 ... 19669 19670 19671] [11804 11805 11806 ... 15735 15736 15737]\n",
            "32\n"
          ],
          "name": "stdout"
        },
        {
          "output_type": "stream",
          "text": [
            "/usr/local/lib/python3.7/dist-packages/sklearn/metrics/_classification.py:1272: UndefinedMetricWarning: Precision is ill-defined and being set to 0.0 in labels with no predicted samples. Use `zero_division` parameter to control this behavior.\n",
            "  _warn_prf(average, modifier, msg_start, len(result))\n"
          ],
          "name": "stderr"
        },
        {
          "output_type": "stream",
          "text": [
            "[    0     1     2 ... 15735 15736 15737] [15738 15739 15740 ... 19669 19670 19671]\n",
            "32\n"
          ],
          "name": "stdout"
        },
        {
          "output_type": "stream",
          "text": [
            "/usr/local/lib/python3.7/dist-packages/sklearn/metrics/_classification.py:1272: UndefinedMetricWarning: Precision is ill-defined and being set to 0.0 in labels with no predicted samples. Use `zero_division` parameter to control this behavior.\n",
            "  _warn_prf(average, modifier, msg_start, len(result))\n"
          ],
          "name": "stderr"
        },
        {
          "output_type": "execute_result",
          "data": {
            "text/plain": [
              "(0.7183077563139951, 0.6011018632583017, 0.5916240998503096)"
            ]
          },
          "metadata": {
            "tags": []
          },
          "execution_count": 123
        }
      ]
    },
    {
      "cell_type": "markdown",
      "metadata": {
        "id": "MAFS5eEkgWPs"
      },
      "source": [
        "### Model 3: XGBOOST classifier"
      ]
    },
    {
      "cell_type": "markdown",
      "metadata": {
        "id": "ojEvqoX44sqI"
      },
      "source": [
        "#### Using Count Vectorizer"
      ]
    },
    {
      "cell_type": "code",
      "metadata": {
        "id": "h3K3ZDPU5HAC",
        "colab": {
          "base_uri": "https://localhost:8080/"
        },
        "outputId": "b275f339-3087-4f2a-b189-c760da1ac842"
      },
      "source": [
        "model = xgb.XGBClassifier()\n",
        "vect = CountVectorizer()\n",
        "run_model(model,labelled,vect)"
      ],
      "execution_count": 21,
      "outputs": [
        {
          "output_type": "stream",
          "text": [
            "                                    precision    recall  f1-score   support\n",
            "\n",
            "                       Automotive        0.94      1.00      0.97       186\n",
            "                        Baby Care        0.87      0.86      0.86        98\n",
            "            Bags, Wallets & Belts        0.86      0.89      0.87        54\n",
            "         Beauty and Personal Care        0.99      0.93      0.96       136\n",
            "            Cameras & Accessories        0.95      0.87      0.91        23\n",
            "                         Clothing        0.98      0.99      0.98      1205\n",
            "                        Computers        0.96      0.92      0.94       118\n",
            "                          Eyewear        1.00      1.00      1.00         1\n",
            "                         Footwear        0.99      0.97      0.98       238\n",
            "                        Furniture        0.97      0.97      0.97        31\n",
            "                           Gaming        0.71      1.00      0.83         5\n",
            "Health & Personal Care Appliances        1.00      1.00      1.00         9\n",
            "                   Home & Kitchen        1.00      0.33      0.50         3\n",
            "       Home Decor & Festive Needs        0.89      0.96      0.92       178\n",
            "               Home Entertainment        1.00      0.75      0.86         4\n",
            "                  Home Furnishing        0.94      0.95      0.94       155\n",
            "                 Home Improvement        1.00      0.88      0.93        16\n",
            "                        Jewellery        0.98      0.99      0.98       721\n",
            "                 Kitchen & Dining        0.93      0.93      0.93       144\n",
            "            Mobiles & Accessories        0.97      0.93      0.95       237\n",
            "                Pens & Stationery        0.87      0.74      0.80        72\n",
            "                     Pet Supplies        1.00      1.00      1.00         4\n",
            "                 Sports & Fitness        0.84      0.70      0.76        30\n",
            "                       Sunglasses        1.00      1.00      1.00         9\n",
            "                 Tools & Hardware        1.00      0.91      0.95        91\n",
            "           Toys & School Supplies        0.78      0.85      0.81        61\n",
            "                          Watches        1.00      0.99      1.00       104\n",
            "                           eBooks        0.00      0.00      0.00         2\n",
            "\n",
            "                          accuracy                           0.96      3935\n",
            "                         macro avg       0.91      0.87      0.88      3935\n",
            "                      weighted avg       0.96      0.96      0.96      3935\n",
            "\n"
          ],
          "name": "stdout"
        },
        {
          "output_type": "stream",
          "text": [
            "/usr/local/lib/python3.7/dist-packages/sklearn/metrics/_classification.py:1272: UndefinedMetricWarning: Precision and F-score are ill-defined and being set to 0.0 in labels with no predicted samples. Use `zero_division` parameter to control this behavior.\n",
            "  _warn_prf(average, modifier, msg_start, len(result))\n"
          ],
          "name": "stderr"
        }
      ]
    },
    {
      "cell_type": "markdown",
      "metadata": {
        "id": "ptNS9hQb4ycf"
      },
      "source": [
        "#### Using TF-IDF vectorizer (Word Level)"
      ]
    },
    {
      "cell_type": "code",
      "metadata": {
        "colab": {
          "base_uri": "https://localhost:8080/"
        },
        "id": "yViC_QT5koHt",
        "outputId": "c4c7fdbb-cf19-4469-9911-8d9af5212516"
      },
      "source": [
        "model = xgb.XGBClassifier()\n",
        "vect = TfidfVectorizer()\n",
        "run_model(model,labelled,vect)"
      ],
      "execution_count": 22,
      "outputs": [
        {
          "output_type": "stream",
          "text": [
            "                                    precision    recall  f1-score   support\n",
            "\n",
            "                       Automotive        0.95      1.00      0.97       186\n",
            "                        Baby Care        0.88      0.85      0.86        98\n",
            "            Bags, Wallets & Belts        0.90      0.85      0.88        54\n",
            "         Beauty and Personal Care        0.99      0.93      0.96       136\n",
            "            Cameras & Accessories        0.96      0.96      0.96        23\n",
            "                         Clothing        0.98      0.99      0.98      1205\n",
            "                        Computers        0.89      0.98      0.94       118\n",
            "                          Eyewear        1.00      1.00      1.00         1\n",
            "                         Footwear        0.99      0.96      0.98       238\n",
            "                        Furniture        1.00      0.90      0.95        31\n",
            "                           Gaming        0.67      0.80      0.73         5\n",
            "Health & Personal Care Appliances        1.00      1.00      1.00         9\n",
            "                   Home & Kitchen        0.00      0.00      0.00         3\n",
            "       Home Decor & Festive Needs        0.93      0.96      0.94       178\n",
            "               Home Entertainment        1.00      0.25      0.40         4\n",
            "                  Home Furnishing        0.95      0.97      0.96       155\n",
            "                 Home Improvement        1.00      0.81      0.90        16\n",
            "                        Jewellery        0.99      0.99      0.99       721\n",
            "                 Kitchen & Dining        0.88      0.95      0.92       144\n",
            "            Mobiles & Accessories        0.96      0.93      0.95       237\n",
            "                Pens & Stationery        0.83      0.67      0.74        72\n",
            "                     Pet Supplies        0.80      1.00      0.89         4\n",
            "                 Sports & Fitness        0.87      0.67      0.75        30\n",
            "                       Sunglasses        1.00      1.00      1.00         9\n",
            "                 Tools & Hardware        1.00      0.93      0.97        91\n",
            "           Toys & School Supplies        0.74      0.82      0.78        61\n",
            "                          Watches        1.00      0.99      1.00       104\n",
            "                           eBooks        0.00      0.00      0.00         2\n",
            "\n",
            "                          accuracy                           0.96      3935\n",
            "                         macro avg       0.86      0.83      0.84      3935\n",
            "                      weighted avg       0.96      0.96      0.96      3935\n",
            "\n"
          ],
          "name": "stdout"
        },
        {
          "output_type": "stream",
          "text": [
            "/usr/local/lib/python3.7/dist-packages/sklearn/metrics/_classification.py:1272: UndefinedMetricWarning: Precision and F-score are ill-defined and being set to 0.0 in labels with no predicted samples. Use `zero_division` parameter to control this behavior.\n",
            "  _warn_prf(average, modifier, msg_start, len(result))\n"
          ],
          "name": "stderr"
        }
      ]
    },
    {
      "cell_type": "markdown",
      "metadata": {
        "id": "hQ39nG8G9vJ-"
      },
      "source": [
        "#### Using Merged and Ignored Categories"
      ]
    },
    {
      "cell_type": "code",
      "metadata": {
        "id": "qautPvA7hCz5"
      },
      "source": [
        "ignore_categories = ['eBooks ','Pet Supplies ','Health & Personal Care Appliances ', ]\n",
        "merge_categories = [['Sunglasses ', 'Eyewear '],['Kitchen & Dining ','Home & Kitchen  ']]"
      ],
      "execution_count": 28,
      "outputs": []
    },
    {
      "cell_type": "code",
      "metadata": {
        "colab": {
          "base_uri": "https://localhost:8080/"
        },
        "id": "qZSuXRqm9oxQ",
        "outputId": "d459f932-3025-4c0b-9d4c-1b8aca570ae2"
      },
      "source": [
        "model = xgb.XGBClassifier()\n",
        "vect = CountVectorizer()\n",
        "run_model(model,labelled,vect,ignore_categories,merge_categories)"
      ],
      "execution_count": 31,
      "outputs": [
        {
          "output_type": "stream",
          "text": [
            "                             precision    recall  f1-score   support\n",
            "\n",
            "                Automotive        0.98      0.98      0.98       197\n",
            "                 Baby Care        0.92      0.89      0.90       100\n",
            "     Bags, Wallets & Belts        0.92      0.95      0.94        63\n",
            "  Beauty and Personal Care        0.98      0.93      0.95       141\n",
            "     Cameras & Accessories        0.93      0.93      0.93        15\n",
            "                  Clothing        0.98      0.99      0.99      1245\n",
            "                 Computers        0.99      0.92      0.96       129\n",
            "                  Footwear        0.99      0.98      0.99       241\n",
            "                 Furniture        0.90      1.00      0.95        35\n",
            "                    Gaming        0.80      0.80      0.80         5\n",
            "            Home & Kitchen        0.80      0.67      0.73         6\n",
            "Home Decor & Festive Needs        0.90      0.98      0.94       170\n",
            "        Home Entertainment        1.00      0.75      0.86         4\n",
            "           Home Furnishing        0.95      0.98      0.96       125\n",
            "          Home Improvement        1.00      0.86      0.92        21\n",
            "        Household Supplies        1.00      1.00      1.00         1\n",
            "                 Jewellery        0.98      0.99      0.98       713\n",
            "          Kitchen & Dining        0.95      0.95      0.95       134\n",
            "     Mobiles & Accessories        0.97      0.98      0.98       226\n",
            "         Pens & Stationery        0.93      0.62      0.74        65\n",
            "          Sports & Fitness        0.94      0.88      0.91        33\n",
            "                Sunglasses        1.00      1.00      1.00        10\n",
            "          Tools & Hardware        1.00      0.96      0.98        75\n",
            "    Toys & School Supplies        0.82      0.87      0.84        61\n",
            "                   Watches        1.00      0.99      1.00       102\n",
            "\n",
            "                   accuracy                           0.97      3917\n",
            "                  macro avg       0.94      0.91      0.93      3917\n",
            "               weighted avg       0.97      0.97      0.97      3917\n",
            "\n"
          ],
          "name": "stdout"
        }
      ]
    },
    {
      "cell_type": "code",
      "metadata": {
        "colab": {
          "base_uri": "https://localhost:8080/"
        },
        "id": "vxv-EtAk9shp",
        "outputId": "b564bb67-50f3-4959-e823-61cf45aac5e9"
      },
      "source": [
        "model = xgb.XGBClassifier()\n",
        "vect = TfidfVectorizer()\n",
        "# run_model(model,labelled,vect)\n",
        "run_model(model,labelled,vect,ignore_categories,merge_categories)"
      ],
      "execution_count": 33,
      "outputs": [
        {
          "output_type": "stream",
          "text": [
            "/usr/local/lib/python3.7/dist-packages/sklearn/metrics/_classification.py:1272: UndefinedMetricWarning: Precision and F-score are ill-defined and being set to 0.0 in labels with no predicted samples. Use `zero_division` parameter to control this behavior.\n",
            "  _warn_prf(average, modifier, msg_start, len(result))\n"
          ],
          "name": "stderr"
        },
        {
          "output_type": "stream",
          "text": [
            "                                    precision    recall  f1-score   support\n",
            "\n",
            "                       Automotive        0.95      1.00      0.97       186\n",
            "                        Baby Care        0.88      0.85      0.86        98\n",
            "            Bags, Wallets & Belts        0.90      0.85      0.88        54\n",
            "         Beauty and Personal Care        0.99      0.93      0.96       136\n",
            "            Cameras & Accessories        0.96      0.96      0.96        23\n",
            "                         Clothing        0.98      0.99      0.98      1205\n",
            "                        Computers        0.89      0.98      0.94       118\n",
            "                          Eyewear        1.00      1.00      1.00         1\n",
            "                         Footwear        0.99      0.96      0.98       238\n",
            "                        Furniture        1.00      0.90      0.95        31\n",
            "                           Gaming        0.67      0.80      0.73         5\n",
            "Health & Personal Care Appliances        1.00      1.00      1.00         9\n",
            "                   Home & Kitchen        0.00      0.00      0.00         3\n",
            "       Home Decor & Festive Needs        0.93      0.96      0.94       178\n",
            "               Home Entertainment        1.00      0.25      0.40         4\n",
            "                  Home Furnishing        0.95      0.97      0.96       155\n",
            "                 Home Improvement        1.00      0.81      0.90        16\n",
            "                        Jewellery        0.99      0.99      0.99       721\n",
            "                 Kitchen & Dining        0.88      0.95      0.92       144\n",
            "            Mobiles & Accessories        0.96      0.93      0.95       237\n",
            "                Pens & Stationery        0.83      0.67      0.74        72\n",
            "                     Pet Supplies        0.80      1.00      0.89         4\n",
            "                 Sports & Fitness        0.87      0.67      0.75        30\n",
            "                       Sunglasses        1.00      1.00      1.00         9\n",
            "                 Tools & Hardware        1.00      0.93      0.97        91\n",
            "           Toys & School Supplies        0.74      0.82      0.78        61\n",
            "                          Watches        1.00      0.99      1.00       104\n",
            "                           eBooks        0.00      0.00      0.00         2\n",
            "\n",
            "                          accuracy                           0.96      3935\n",
            "                         macro avg       0.86      0.83      0.84      3935\n",
            "                      weighted avg       0.96      0.96      0.96      3935\n",
            "\n",
            "                             precision    recall  f1-score   support\n",
            "\n",
            "                Automotive        0.98      0.98      0.98       197\n",
            "                 Baby Care        0.90      0.89      0.89       100\n",
            "     Bags, Wallets & Belts        0.89      0.94      0.91        63\n",
            "  Beauty and Personal Care        0.98      0.91      0.95       141\n",
            "     Cameras & Accessories        0.93      0.93      0.93        15\n",
            "                  Clothing        0.98      0.99      0.99      1245\n",
            "                 Computers        0.96      0.96      0.96       129\n",
            "                  Footwear        0.99      0.98      0.99       241\n",
            "                 Furniture        0.92      1.00      0.96        35\n",
            "                    Gaming        0.80      0.80      0.80         5\n",
            "            Home & Kitchen        1.00      0.83      0.91         6\n",
            "Home Decor & Festive Needs        0.91      0.98      0.94       170\n",
            "        Home Entertainment        0.50      0.50      0.50         4\n",
            "           Home Furnishing        0.95      0.96      0.96       125\n",
            "          Home Improvement        1.00      0.86      0.92        21\n",
            "        Household Supplies        1.00      1.00      1.00         1\n",
            "                 Jewellery        0.99      0.99      0.99       713\n",
            "          Kitchen & Dining        0.95      0.95      0.95       134\n",
            "     Mobiles & Accessories        0.95      0.98      0.97       226\n",
            "         Pens & Stationery        0.87      0.63      0.73        65\n",
            "          Sports & Fitness        0.90      0.85      0.88        33\n",
            "                Sunglasses        1.00      1.00      1.00        10\n",
            "          Tools & Hardware        1.00      0.96      0.98        75\n",
            "    Toys & School Supplies        0.81      0.82      0.81        61\n",
            "                   Watches        1.00      0.99      1.00       102\n",
            "\n",
            "                   accuracy                           0.97      3917\n",
            "                  macro avg       0.93      0.91      0.92      3917\n",
            "               weighted avg       0.97      0.97      0.97      3917\n",
            "\n"
          ],
          "name": "stdout"
        }
      ]
    },
    {
      "cell_type": "markdown",
      "metadata": {
        "id": "KddpKYaZsODt"
      },
      "source": [
        "#### Handling imbalanced data"
      ]
    },
    {
      "cell_type": "markdown",
      "metadata": {
        "id": "9e-hVgcOw26R"
      },
      "source": [
        "##### CountVectorizer"
      ]
    },
    {
      "cell_type": "code",
      "metadata": {
        "colab": {
          "base_uri": "https://localhost:8080/"
        },
        "id": "Cp2vrixvv3H1",
        "outputId": "aa8de05f-ac38-4201-e5f4-3edb8b697996"
      },
      "source": [
        "model = xgb.XGBClassifier()\n",
        "vect = CountVectorizer()\n",
        "# run_model(model,labelled,vect)\n",
        "run_model(model,labelled,vect,class_wt=True,class_model=\"XGBOOST\")"
      ],
      "execution_count": 42,
      "outputs": [
        {
          "output_type": "stream",
          "text": [
            "32\n",
            "                                    precision    recall  f1-score   support\n",
            "\n",
            "            Automation & Robotics        0.00      0.00      0.00         0\n",
            "                       Automotive        0.94      1.00      0.97       186\n",
            "                        Baby Care        0.87      0.86      0.86        98\n",
            "            Bags, Wallets & Belts        0.86      0.89      0.87        54\n",
            "         Beauty and Personal Care        0.99      0.93      0.96       136\n",
            "            Cameras & Accessories        0.95      0.87      0.91        23\n",
            "                         Clothing        0.98      0.99      0.98      1205\n",
            "                        Computers        0.96      0.92      0.94       118\n",
            "                          Eyewear        1.00      1.00      1.00         1\n",
            "                 Food & Nutrition        0.00      0.00      0.00         0\n",
            "                         Footwear        0.99      0.97      0.98       238\n",
            "                        Furniture        0.97      0.97      0.97        31\n",
            "                           Gaming        0.71      1.00      0.83         5\n",
            "Health & Personal Care Appliances        1.00      1.00      1.00         9\n",
            "                   Home & Kitchen        1.00      0.33      0.50         3\n",
            "       Home Decor & Festive Needs        0.89      0.96      0.92       178\n",
            "               Home Entertainment        1.00      0.75      0.86         4\n",
            "                  Home Furnishing        0.94      0.95      0.94       155\n",
            "                 Home Improvement        1.00      0.88      0.93        16\n",
            "               Household Supplies        0.00      0.00      0.00         0\n",
            "                        Jewellery        0.98      0.99      0.98       721\n",
            "                 Kitchen & Dining        0.93      0.93      0.93       144\n",
            "            Mobiles & Accessories        0.97      0.93      0.95       237\n",
            "                Pens & Stationery        0.87      0.74      0.80        72\n",
            "                     Pet Supplies        1.00      1.00      1.00         4\n",
            "                 Sports & Fitness        0.84      0.70      0.76        30\n",
            "                       Sunglasses        1.00      1.00      1.00         9\n",
            "                 Tools & Hardware        1.00      0.91      0.95        91\n",
            "           Toys & School Supplies        0.78      0.85      0.81        61\n",
            "                          Watches        1.00      0.99      1.00       104\n",
            "           Wearable Smart Devices        0.00      0.00      0.00         0\n",
            "                           eBooks        0.00      0.00      0.00         2\n",
            "\n",
            "                         micro avg       0.96      0.96      0.96      3935\n",
            "                         macro avg       0.79      0.76      0.77      3935\n",
            "                      weighted avg       0.96      0.96      0.96      3935\n",
            "\n"
          ],
          "name": "stdout"
        },
        {
          "output_type": "stream",
          "text": [
            "/usr/local/lib/python3.7/dist-packages/sklearn/metrics/_classification.py:1272: UndefinedMetricWarning: Precision and F-score are ill-defined and being set to 0.0 in labels with no predicted samples. Use `zero_division` parameter to control this behavior.\n",
            "  _warn_prf(average, modifier, msg_start, len(result))\n",
            "/usr/local/lib/python3.7/dist-packages/sklearn/metrics/_classification.py:1272: UndefinedMetricWarning: Recall and F-score are ill-defined and being set to 0.0 in labels with no true samples. Use `zero_division` parameter to control this behavior.\n",
            "  _warn_prf(average, modifier, msg_start, len(result))\n"
          ],
          "name": "stderr"
        }
      ]
    },
    {
      "cell_type": "code",
      "metadata": {
        "colab": {
          "base_uri": "https://localhost:8080/"
        },
        "id": "Fgkkq6LlWRP2",
        "outputId": "0a8c7652-d2fd-4ba4-c6b6-2f349c6523f7"
      },
      "source": [
        "model = xgb.XGBClassifier()\n",
        "vect = CountVectorizer()\n",
        "# run_model(model,labelled,vect)\n",
        "run_model(model,labelled,vect,class_wt=True,class_model=\"XGBOOST\")"
      ],
      "execution_count": 117,
      "outputs": [
        {
          "output_type": "stream",
          "text": [
            "[ 3935  3936  3937 ... 19669 19670 19671] [   0    1    2 ... 3932 3933 3934]\n",
            "32\n"
          ],
          "name": "stdout"
        },
        {
          "output_type": "stream",
          "text": [
            "/usr/local/lib/python3.7/dist-packages/sklearn/metrics/_classification.py:1272: UndefinedMetricWarning: Precision is ill-defined and being set to 0.0 in labels with no predicted samples. Use `zero_division` parameter to control this behavior.\n",
            "  _warn_prf(average, modifier, msg_start, len(result))\n"
          ],
          "name": "stderr"
        },
        {
          "output_type": "stream",
          "text": [
            "[    0     1     2 ... 19669 19670 19671] [3935 3936 3937 ... 7867 7868 7869]\n",
            "32\n",
            "[    0     1     2 ... 19669 19670 19671] [ 7870  7871  7872 ... 11801 11802 11803]\n",
            "31\n",
            "[    0     1     2 ... 19669 19670 19671] [11804 11805 11806 ... 15735 15736 15737]\n",
            "32\n",
            "[    0     1     2 ... 15735 15736 15737] [15738 15739 15740 ... 19669 19670 19671]\n",
            "32\n"
          ],
          "name": "stdout"
        },
        {
          "output_type": "stream",
          "text": [
            "/usr/local/lib/python3.7/dist-packages/sklearn/metrics/_classification.py:1272: UndefinedMetricWarning: Recall is ill-defined and being set to 0.0 in labels with no true samples. Use `zero_division` parameter to control this behavior.\n",
            "  _warn_prf(average, modifier, msg_start, len(result))\n"
          ],
          "name": "stderr"
        },
        {
          "output_type": "execute_result",
          "data": {
            "text/plain": [
              "(0.8941550545168043, 0.8260820702137625, 0.8480220940115212)"
            ]
          },
          "metadata": {
            "tags": []
          },
          "execution_count": 117
        }
      ]
    },
    {
      "cell_type": "markdown",
      "metadata": {
        "id": "QGeh6Or3w6BN"
      },
      "source": [
        "##### TF-IDF Vectorizer"
      ]
    },
    {
      "cell_type": "code",
      "metadata": {
        "colab": {
          "base_uri": "https://localhost:8080/"
        },
        "id": "n_x481A_sSBy",
        "outputId": "570bc119-122f-45a4-b010-4c0709ff4aad"
      },
      "source": [
        "model = xgb.XGBClassifier()\n",
        "vect = TfidfVectorizer()\n",
        "# run_model(model,labelled,vect)\n",
        "run_model(model,labelled,vect,class_wt=True,class_model=\"XGBOOST\")"
      ],
      "execution_count": 41,
      "outputs": [
        {
          "output_type": "stream",
          "text": [
            "32\n",
            "                                    precision    recall  f1-score   support\n",
            "\n",
            "            Automation & Robotics        0.00      0.00      0.00         0\n",
            "                       Automotive        0.95      1.00      0.97       186\n",
            "                        Baby Care        0.88      0.85      0.86        98\n",
            "            Bags, Wallets & Belts        0.90      0.85      0.88        54\n",
            "         Beauty and Personal Care        0.99      0.93      0.96       136\n",
            "            Cameras & Accessories        0.96      0.96      0.96        23\n",
            "                         Clothing        0.98      0.99      0.98      1205\n",
            "                        Computers        0.89      0.98      0.94       118\n",
            "                          Eyewear        1.00      1.00      1.00         1\n",
            "                 Food & Nutrition        0.00      0.00      0.00         0\n",
            "                         Footwear        0.99      0.96      0.98       238\n",
            "                        Furniture        1.00      0.90      0.95        31\n",
            "                           Gaming        0.67      0.80      0.73         5\n",
            "Health & Personal Care Appliances        1.00      1.00      1.00         9\n",
            "                   Home & Kitchen        0.00      0.00      0.00         3\n",
            "       Home Decor & Festive Needs        0.93      0.96      0.94       178\n",
            "               Home Entertainment        1.00      0.25      0.40         4\n",
            "                  Home Furnishing        0.95      0.97      0.96       155\n",
            "                 Home Improvement        1.00      0.81      0.90        16\n",
            "               Household Supplies        0.00      0.00      0.00         0\n",
            "                        Jewellery        0.99      0.99      0.99       721\n",
            "                 Kitchen & Dining        0.88      0.95      0.92       144\n",
            "            Mobiles & Accessories        0.96      0.93      0.95       237\n",
            "                Pens & Stationery        0.83      0.67      0.74        72\n",
            "                     Pet Supplies        0.80      1.00      0.89         4\n",
            "                 Sports & Fitness        0.87      0.67      0.75        30\n",
            "                       Sunglasses        1.00      1.00      1.00         9\n",
            "                 Tools & Hardware        1.00      0.93      0.97        91\n",
            "           Toys & School Supplies        0.74      0.82      0.78        61\n",
            "                          Watches        1.00      0.99      1.00       104\n",
            "           Wearable Smart Devices        0.00      0.00      0.00         0\n",
            "                           eBooks        0.00      0.00      0.00         2\n",
            "\n",
            "                         micro avg       0.96      0.96      0.96      3935\n",
            "                         macro avg       0.76      0.72      0.73      3935\n",
            "                      weighted avg       0.96      0.96      0.96      3935\n",
            "\n"
          ],
          "name": "stdout"
        },
        {
          "output_type": "stream",
          "text": [
            "/usr/local/lib/python3.7/dist-packages/sklearn/metrics/_classification.py:1272: UndefinedMetricWarning: Precision and F-score are ill-defined and being set to 0.0 in labels with no predicted samples. Use `zero_division` parameter to control this behavior.\n",
            "  _warn_prf(average, modifier, msg_start, len(result))\n",
            "/usr/local/lib/python3.7/dist-packages/sklearn/metrics/_classification.py:1272: UndefinedMetricWarning: Recall and F-score are ill-defined and being set to 0.0 in labels with no true samples. Use `zero_division` parameter to control this behavior.\n",
            "  _warn_prf(average, modifier, msg_start, len(result))\n"
          ],
          "name": "stderr"
        }
      ]
    },
    {
      "cell_type": "code",
      "metadata": {
        "colab": {
          "base_uri": "https://localhost:8080/"
        },
        "id": "2JkcC5rRaaec",
        "outputId": "ca6d615e-e4c7-40ea-a576-70c8f153d754"
      },
      "source": [
        "model = xgb.XGBClassifier()\n",
        "vect = TfidfVectorizer()\n",
        "# run_model(model,labelled,vect)\n",
        "run_model(model,labelled,vect,class_wt=True,class_model=\"XGBOOST\")"
      ],
      "execution_count": 118,
      "outputs": [
        {
          "output_type": "stream",
          "text": [
            "[ 3935  3936  3937 ... 19669 19670 19671] [   0    1    2 ... 3932 3933 3934]\n",
            "32\n",
            "[    0     1     2 ... 19669 19670 19671] [3935 3936 3937 ... 7867 7868 7869]\n",
            "32\n"
          ],
          "name": "stdout"
        },
        {
          "output_type": "stream",
          "text": [
            "/usr/local/lib/python3.7/dist-packages/sklearn/metrics/_classification.py:1272: UndefinedMetricWarning: Precision is ill-defined and being set to 0.0 in labels with no predicted samples. Use `zero_division` parameter to control this behavior.\n",
            "  _warn_prf(average, modifier, msg_start, len(result))\n"
          ],
          "name": "stderr"
        },
        {
          "output_type": "stream",
          "text": [
            "[    0     1     2 ... 19669 19670 19671] [ 7870  7871  7872 ... 11801 11802 11803]\n",
            "31\n"
          ],
          "name": "stdout"
        },
        {
          "output_type": "stream",
          "text": [
            "/usr/local/lib/python3.7/dist-packages/sklearn/metrics/_classification.py:1272: UndefinedMetricWarning: Precision is ill-defined and being set to 0.0 in labels with no predicted samples. Use `zero_division` parameter to control this behavior.\n",
            "  _warn_prf(average, modifier, msg_start, len(result))\n"
          ],
          "name": "stderr"
        },
        {
          "output_type": "stream",
          "text": [
            "[    0     1     2 ... 19669 19670 19671] [11804 11805 11806 ... 15735 15736 15737]\n",
            "32\n"
          ],
          "name": "stdout"
        },
        {
          "output_type": "stream",
          "text": [
            "/usr/local/lib/python3.7/dist-packages/sklearn/metrics/_classification.py:1272: UndefinedMetricWarning: Precision is ill-defined and being set to 0.0 in labels with no predicted samples. Use `zero_division` parameter to control this behavior.\n",
            "  _warn_prf(average, modifier, msg_start, len(result))\n"
          ],
          "name": "stderr"
        },
        {
          "output_type": "stream",
          "text": [
            "[    0     1     2 ... 15735 15736 15737] [15738 15739 15740 ... 19669 19670 19671]\n",
            "32\n"
          ],
          "name": "stdout"
        },
        {
          "output_type": "execute_result",
          "data": {
            "text/plain": [
              "(0.880764859758589, 0.8305019365986742, 0.8476183773043438)"
            ]
          },
          "metadata": {
            "tags": []
          },
          "execution_count": 118
        }
      ]
    },
    {
      "cell_type": "markdown",
      "metadata": {
        "id": "-Vw6lFuwDPPP"
      },
      "source": [
        "### Model 4: Random Forest Classifier"
      ]
    },
    {
      "cell_type": "code",
      "metadata": {
        "colab": {
          "base_uri": "https://localhost:8080/"
        },
        "id": "vMv8Gwc89udS",
        "outputId": "b984fef9-8561-4069-e09b-43e60dbfd8cd"
      },
      "source": [
        "model = RandomForestClassifier(random_state=0, class_weight='balanced')\n",
        "vect = CountVectorizer()\n",
        "run_model(model,labelled,vect,ignore_categories,merge_categories)"
      ],
      "execution_count": 46,
      "outputs": [
        {
          "output_type": "stream",
          "text": [
            "                             precision    recall  f1-score   support\n",
            "\n",
            "                Automotive        0.99      0.97      0.98       197\n",
            "                 Baby Care        0.96      0.81      0.88       100\n",
            "     Bags, Wallets & Belts        0.94      0.94      0.94        63\n",
            "  Beauty and Personal Care        0.99      0.95      0.97       141\n",
            "     Cameras & Accessories        1.00      0.87      0.93        15\n",
            "                  Clothing        0.97      1.00      0.99      1245\n",
            "                 Computers        0.96      0.94      0.95       129\n",
            "                  Footwear        1.00      0.98      0.99       241\n",
            "                 Furniture        0.95      1.00      0.97        35\n",
            "                    Gaming        0.67      0.80      0.73         5\n",
            "            Home & Kitchen        1.00      0.67      0.80         6\n",
            "Home Decor & Festive Needs        0.95      0.97      0.96       170\n",
            "        Home Entertainment        1.00      0.50      0.67         4\n",
            "           Home Furnishing        0.94      0.95      0.95       125\n",
            "          Home Improvement        1.00      0.81      0.89        21\n",
            "        Household Supplies        1.00      1.00      1.00         1\n",
            "                 Jewellery        0.99      1.00      0.99       713\n",
            "          Kitchen & Dining        0.94      0.99      0.96       134\n",
            "     Mobiles & Accessories        0.94      0.99      0.96       226\n",
            "         Pens & Stationery        0.90      0.72      0.80        65\n",
            "          Sports & Fitness        1.00      0.79      0.88        33\n",
            "                Sunglasses        1.00      1.00      1.00        10\n",
            "          Tools & Hardware        0.99      0.96      0.97        75\n",
            "    Toys & School Supplies        0.85      0.85      0.85        61\n",
            "                   Watches        1.00      0.97      0.99       102\n",
            "\n",
            "                   accuracy                           0.97      3917\n",
            "                  macro avg       0.96      0.90      0.92      3917\n",
            "               weighted avg       0.97      0.97      0.97      3917\n",
            "\n"
          ],
          "name": "stdout"
        }
      ]
    },
    {
      "cell_type": "code",
      "metadata": {
        "colab": {
          "base_uri": "https://localhost:8080/"
        },
        "id": "WugCN2bUD69A",
        "outputId": "f88c1376-1a77-4fd3-96c1-6a030491af5a"
      },
      "source": [
        "model = RandomForestClassifier(random_state=0, class_weight='balanced')\n",
        "vect = TfidfVectorizer()\n",
        "run_model(model,labelled,vect,ignore_categories,merge_categories)"
      ],
      "execution_count": 47,
      "outputs": [
        {
          "output_type": "stream",
          "text": [
            "                             precision    recall  f1-score   support\n",
            "\n",
            "                Automotive        0.99      0.98      0.98       197\n",
            "                 Baby Care        0.96      0.77      0.86       100\n",
            "     Bags, Wallets & Belts        0.92      0.89      0.90        63\n",
            "  Beauty and Personal Care        0.99      0.95      0.97       141\n",
            "     Cameras & Accessories        1.00      0.80      0.89        15\n",
            "                  Clothing        0.97      1.00      0.98      1245\n",
            "                 Computers        0.94      0.92      0.93       129\n",
            "                  Footwear        0.98      0.99      0.99       241\n",
            "                 Furniture        0.92      0.97      0.94        35\n",
            "                    Gaming        0.75      0.60      0.67         5\n",
            "            Home & Kitchen        1.00      0.50      0.67         6\n",
            "Home Decor & Festive Needs        0.90      0.98      0.94       170\n",
            "        Home Entertainment        1.00      0.25      0.40         4\n",
            "           Home Furnishing        0.95      0.93      0.94       125\n",
            "          Home Improvement        1.00      0.81      0.89        21\n",
            "        Household Supplies        1.00      1.00      1.00         1\n",
            "                 Jewellery        0.99      0.99      0.99       713\n",
            "          Kitchen & Dining        0.94      0.96      0.95       134\n",
            "     Mobiles & Accessories        0.94      0.99      0.96       226\n",
            "         Pens & Stationery        0.91      0.74      0.81        65\n",
            "          Sports & Fitness        1.00      0.76      0.86        33\n",
            "                Sunglasses        1.00      1.00      1.00        10\n",
            "          Tools & Hardware        0.97      0.96      0.97        75\n",
            "    Toys & School Supplies        0.88      0.84      0.86        61\n",
            "                   Watches        1.00      0.98      0.99       102\n",
            "\n",
            "                   accuracy                           0.96      3917\n",
            "                  macro avg       0.96      0.86      0.89      3917\n",
            "               weighted avg       0.97      0.96      0.96      3917\n",
            "\n"
          ],
          "name": "stdout"
        }
      ]
    },
    {
      "cell_type": "code",
      "metadata": {
        "colab": {
          "base_uri": "https://localhost:8080/"
        },
        "id": "mB8maf95EIa2",
        "outputId": "98f1a6cc-6152-457c-a525-f732adbf2eae"
      },
      "source": [
        "model = RandomForestClassifier(random_state=0, class_weight='balanced')\n",
        "vect = TfidfVectorizer()\n",
        "run_model(model,labelled,vect)"
      ],
      "execution_count": 111,
      "outputs": [
        {
          "output_type": "stream",
          "text": [
            "[ 3935  3936  3937 ... 19669 19670 19671] [   0    1    2 ... 3932 3933 3934]\n"
          ],
          "name": "stdout"
        },
        {
          "output_type": "stream",
          "text": [
            "/usr/local/lib/python3.7/dist-packages/sklearn/metrics/_classification.py:1272: UndefinedMetricWarning: Precision is ill-defined and being set to 0.0 in labels with no predicted samples. Use `zero_division` parameter to control this behavior.\n",
            "  _warn_prf(average, modifier, msg_start, len(result))\n"
          ],
          "name": "stderr"
        },
        {
          "output_type": "stream",
          "text": [
            "[    0     1     2 ... 19669 19670 19671] [3935 3936 3937 ... 7867 7868 7869]\n"
          ],
          "name": "stdout"
        },
        {
          "output_type": "stream",
          "text": [
            "/usr/local/lib/python3.7/dist-packages/sklearn/metrics/_classification.py:1272: UndefinedMetricWarning: Precision is ill-defined and being set to 0.0 in labels with no predicted samples. Use `zero_division` parameter to control this behavior.\n",
            "  _warn_prf(average, modifier, msg_start, len(result))\n"
          ],
          "name": "stderr"
        },
        {
          "output_type": "stream",
          "text": [
            "[    0     1     2 ... 19669 19670 19671] [ 7870  7871  7872 ... 11801 11802 11803]\n"
          ],
          "name": "stdout"
        },
        {
          "output_type": "stream",
          "text": [
            "/usr/local/lib/python3.7/dist-packages/sklearn/metrics/_classification.py:1272: UndefinedMetricWarning: Precision is ill-defined and being set to 0.0 in labels with no predicted samples. Use `zero_division` parameter to control this behavior.\n",
            "  _warn_prf(average, modifier, msg_start, len(result))\n"
          ],
          "name": "stderr"
        },
        {
          "output_type": "stream",
          "text": [
            "[    0     1     2 ... 19669 19670 19671] [11804 11805 11806 ... 15735 15736 15737]\n"
          ],
          "name": "stdout"
        },
        {
          "output_type": "stream",
          "text": [
            "/usr/local/lib/python3.7/dist-packages/sklearn/metrics/_classification.py:1272: UndefinedMetricWarning: Precision is ill-defined and being set to 0.0 in labels with no predicted samples. Use `zero_division` parameter to control this behavior.\n",
            "  _warn_prf(average, modifier, msg_start, len(result))\n"
          ],
          "name": "stderr"
        },
        {
          "output_type": "stream",
          "text": [
            "[    0     1     2 ... 15735 15736 15737] [15738 15739 15740 ... 19669 19670 19671]\n"
          ],
          "name": "stdout"
        },
        {
          "output_type": "stream",
          "text": [
            "/usr/local/lib/python3.7/dist-packages/sklearn/metrics/_classification.py:1272: UndefinedMetricWarning: Precision is ill-defined and being set to 0.0 in labels with no predicted samples. Use `zero_division` parameter to control this behavior.\n",
            "  _warn_prf(average, modifier, msg_start, len(result))\n"
          ],
          "name": "stderr"
        },
        {
          "output_type": "execute_result",
          "data": {
            "text/plain": [
              "(0.8887708095993384, 0.7958185210893937, 0.8259700505008757)"
            ]
          },
          "metadata": {
            "tags": []
          },
          "execution_count": 111
        }
      ]
    },
    {
      "cell_type": "code",
      "metadata": {
        "colab": {
          "base_uri": "https://localhost:8080/"
        },
        "id": "Tto4Su4mVssQ",
        "outputId": "bdfcdcf6-42b4-4157-8456-de939fe18607"
      },
      "source": [
        "model = RandomForestClassifier(random_state=0, class_weight='balanced')\n",
        "vect = CountVectorizer()\n",
        "run_model(model,labelled,vect)"
      ],
      "execution_count": 114,
      "outputs": [
        {
          "output_type": "stream",
          "text": [
            "[ 3935  3936  3937 ... 19669 19670 19671] [   0    1    2 ... 3932 3933 3934]\n"
          ],
          "name": "stdout"
        },
        {
          "output_type": "stream",
          "text": [
            "/usr/local/lib/python3.7/dist-packages/sklearn/metrics/_classification.py:1272: UndefinedMetricWarning: Precision is ill-defined and being set to 0.0 in labels with no predicted samples. Use `zero_division` parameter to control this behavior.\n",
            "  _warn_prf(average, modifier, msg_start, len(result))\n"
          ],
          "name": "stderr"
        },
        {
          "output_type": "stream",
          "text": [
            "[    0     1     2 ... 19669 19670 19671] [3935 3936 3937 ... 7867 7868 7869]\n"
          ],
          "name": "stdout"
        },
        {
          "output_type": "stream",
          "text": [
            "/usr/local/lib/python3.7/dist-packages/sklearn/metrics/_classification.py:1272: UndefinedMetricWarning: Precision is ill-defined and being set to 0.0 in labels with no predicted samples. Use `zero_division` parameter to control this behavior.\n",
            "  _warn_prf(average, modifier, msg_start, len(result))\n"
          ],
          "name": "stderr"
        },
        {
          "output_type": "stream",
          "text": [
            "[    0     1     2 ... 19669 19670 19671] [ 7870  7871  7872 ... 11801 11802 11803]\n"
          ],
          "name": "stdout"
        },
        {
          "output_type": "stream",
          "text": [
            "/usr/local/lib/python3.7/dist-packages/sklearn/metrics/_classification.py:1272: UndefinedMetricWarning: Precision is ill-defined and being set to 0.0 in labels with no predicted samples. Use `zero_division` parameter to control this behavior.\n",
            "  _warn_prf(average, modifier, msg_start, len(result))\n"
          ],
          "name": "stderr"
        },
        {
          "output_type": "stream",
          "text": [
            "[    0     1     2 ... 19669 19670 19671] [11804 11805 11806 ... 15735 15736 15737]\n"
          ],
          "name": "stdout"
        },
        {
          "output_type": "stream",
          "text": [
            "/usr/local/lib/python3.7/dist-packages/sklearn/metrics/_classification.py:1272: UndefinedMetricWarning: Precision is ill-defined and being set to 0.0 in labels with no predicted samples. Use `zero_division` parameter to control this behavior.\n",
            "  _warn_prf(average, modifier, msg_start, len(result))\n"
          ],
          "name": "stderr"
        },
        {
          "output_type": "stream",
          "text": [
            "[    0     1     2 ... 15735 15736 15737] [15738 15739 15740 ... 19669 19670 19671]\n"
          ],
          "name": "stdout"
        },
        {
          "output_type": "stream",
          "text": [
            "/usr/local/lib/python3.7/dist-packages/sklearn/metrics/_classification.py:1272: UndefinedMetricWarning: Precision is ill-defined and being set to 0.0 in labels with no predicted samples. Use `zero_division` parameter to control this behavior.\n",
            "  _warn_prf(average, modifier, msg_start, len(result))\n"
          ],
          "name": "stderr"
        },
        {
          "output_type": "execute_result",
          "data": {
            "text/plain": [
              "(0.8946896100103311, 0.8256449554317796, 0.8496130693841077)"
            ]
          },
          "metadata": {
            "tags": []
          },
          "execution_count": 114
        }
      ]
    },
    {
      "cell_type": "markdown",
      "metadata": {
        "id": "vaSl9C34HV9d"
      },
      "source": [
        "### Model 5: SVM"
      ]
    },
    {
      "cell_type": "code",
      "metadata": {
        "colab": {
          "base_uri": "https://localhost:8080/"
        },
        "id": "J5ovZVENGD4k",
        "outputId": "8c54bc44-6386-4dcb-85fd-bcab015dc7c6"
      },
      "source": [
        "model = svm.SVC(kernel=\"linear\")\n",
        "vect = CountVectorizer()\n",
        "run_model(model,labelled,vect,ignore_categories,merge_categories)"
      ],
      "execution_count": 47,
      "outputs": [
        {
          "output_type": "stream",
          "text": [
            "                             precision    recall  f1-score   support\n",
            "\n",
            "     Automation & Robotics        0.00      0.00      0.00         0\n",
            "                Automotive        0.99      0.95      0.97       191\n",
            "                 Baby Care        0.94      0.95      0.95        88\n",
            "     Bags, Wallets & Belts        0.97      0.97      0.97        58\n",
            "  Beauty and Personal Care        0.96      0.99      0.98       130\n",
            "     Cameras & Accessories        1.00      0.88      0.94        17\n",
            "                  Clothing        0.99      1.00      0.99      1211\n",
            "                 Computers        0.96      0.98      0.97       110\n",
            "          Food & Nutrition        0.00      0.00      0.00         0\n",
            "                  Footwear        1.00      0.99      0.99       268\n",
            "                 Furniture        0.97      0.92      0.94        36\n",
            "                    Gaming        0.83      0.83      0.83         6\n",
            "            Home & Kitchen        0.75      0.50      0.60         6\n",
            "Home Decor & Festive Needs        0.95      0.98      0.96       176\n",
            "        Home Entertainment        0.50      0.67      0.57         3\n",
            "           Home Furnishing        0.97      0.95      0.96       128\n",
            "          Home Improvement        0.95      0.90      0.93        21\n",
            "                 Jewellery        1.00      1.00      1.00       721\n",
            "          Kitchen & Dining        0.94      0.94      0.94       146\n",
            "     Mobiles & Accessories        0.99      0.99      0.99       232\n",
            "         Pens & Stationery        0.86      0.79      0.82        71\n",
            "          Sports & Fitness        0.86      0.77      0.81        39\n",
            "                Sunglasses        1.00      1.00      1.00         9\n",
            "          Tools & Hardware        0.96      0.97      0.97        72\n",
            "    Toys & School Supplies        0.85      0.88      0.87        59\n",
            "                   Watches        1.00      0.99      1.00       118\n",
            "    Wearable Smart Devices        0.00      0.00      0.00         0\n",
            "\n",
            "                  micro avg       0.98      0.98      0.98      3916\n",
            "                  macro avg       0.82      0.81      0.81      3916\n",
            "               weighted avg       0.98      0.98      0.98      3916\n",
            "\n"
          ],
          "name": "stdout"
        },
        {
          "output_type": "stream",
          "text": [
            "/usr/local/lib/python3.7/dist-packages/sklearn/metrics/_classification.py:1272: UndefinedMetricWarning: Precision and F-score are ill-defined and being set to 0.0 in labels with no predicted samples. Use `zero_division` parameter to control this behavior.\n",
            "  _warn_prf(average, modifier, msg_start, len(result))\n",
            "/usr/local/lib/python3.7/dist-packages/sklearn/metrics/_classification.py:1272: UndefinedMetricWarning: Recall and F-score are ill-defined and being set to 0.0 in labels with no true samples. Use `zero_division` parameter to control this behavior.\n",
            "  _warn_prf(average, modifier, msg_start, len(result))\n"
          ],
          "name": "stderr"
        }
      ]
    },
    {
      "cell_type": "code",
      "metadata": {
        "colab": {
          "base_uri": "https://localhost:8080/"
        },
        "id": "YrYyQ--rHne8",
        "outputId": "44e94578-5e81-4730-cac0-bdc7ca6f1a0b"
      },
      "source": [
        "model = svm.SVC(kernel=\"linear\")\n",
        "vect = TfidfVectorizer()\n",
        "run_model(model,labelled,vect,ignore_categories,merge_categories)"
      ],
      "execution_count": 48,
      "outputs": [
        {
          "output_type": "stream",
          "text": [
            "                             precision    recall  f1-score   support\n",
            "\n",
            "     Automation & Robotics        0.00      0.00      0.00         0\n",
            "                Automotive        0.98      0.98      0.98       191\n",
            "                 Baby Care        0.97      0.85      0.91        88\n",
            "     Bags, Wallets & Belts        0.95      0.97      0.96        58\n",
            "  Beauty and Personal Care        0.97      0.99      0.98       130\n",
            "     Cameras & Accessories        1.00      0.94      0.97        17\n",
            "                  Clothing        0.98      1.00      0.99      1211\n",
            "                 Computers        0.95      1.00      0.97       110\n",
            "          Food & Nutrition        0.00      0.00      0.00         0\n",
            "                  Footwear        1.00      0.98      0.99       268\n",
            "                 Furniture        0.95      0.97      0.96        36\n",
            "                    Gaming        1.00      0.83      0.91         6\n",
            "            Home & Kitchen        1.00      0.67      0.80         6\n",
            "Home Decor & Festive Needs        0.97      1.00      0.98       176\n",
            "        Home Entertainment        0.67      0.67      0.67         3\n",
            "           Home Furnishing        0.95      0.98      0.97       128\n",
            "          Home Improvement        0.95      0.86      0.90        21\n",
            "                 Jewellery        1.00      1.00      1.00       721\n",
            "          Kitchen & Dining        0.97      0.95      0.96       146\n",
            "     Mobiles & Accessories        0.99      0.99      0.99       232\n",
            "         Pens & Stationery        0.98      0.82      0.89        71\n",
            "          Sports & Fitness        1.00      0.85      0.92        39\n",
            "                Sunglasses        1.00      1.00      1.00         9\n",
            "          Tools & Hardware        1.00      0.97      0.99        72\n",
            "    Toys & School Supplies        0.82      0.95      0.88        59\n",
            "                   Watches        1.00      0.98      0.99       118\n",
            "    Wearable Smart Devices        0.00      0.00      0.00         0\n",
            "\n",
            "                  micro avg       0.98      0.98      0.98      3916\n",
            "                  macro avg       0.85      0.82      0.83      3916\n",
            "               weighted avg       0.98      0.98      0.98      3916\n",
            "\n"
          ],
          "name": "stdout"
        },
        {
          "output_type": "stream",
          "text": [
            "/usr/local/lib/python3.7/dist-packages/sklearn/metrics/_classification.py:1272: UndefinedMetricWarning: Precision and F-score are ill-defined and being set to 0.0 in labels with no predicted samples. Use `zero_division` parameter to control this behavior.\n",
            "  _warn_prf(average, modifier, msg_start, len(result))\n",
            "/usr/local/lib/python3.7/dist-packages/sklearn/metrics/_classification.py:1272: UndefinedMetricWarning: Recall and F-score are ill-defined and being set to 0.0 in labels with no true samples. Use `zero_division` parameter to control this behavior.\n",
            "  _warn_prf(average, modifier, msg_start, len(result))\n"
          ],
          "name": "stderr"
        }
      ]
    },
    {
      "cell_type": "markdown",
      "metadata": {
        "id": "D21wPxPa2plz"
      },
      "source": [
        "#### Handling Imbalances"
      ]
    },
    {
      "cell_type": "code",
      "metadata": {
        "colab": {
          "base_uri": "https://localhost:8080/"
        },
        "id": "rRnbnilEHpJl",
        "outputId": "52bc5161-1eee-4a8c-f471-ddf17bc11177"
      },
      "source": [
        "model = svm.SVC(kernel=\"linear\",class_weight=\"balanced\")\n",
        "vect = CountVectorizer()\n",
        "run_model(model,labelled,vect)"
      ],
      "execution_count": 45,
      "outputs": [
        {
          "output_type": "stream",
          "text": [
            "                                    precision    recall  f1-score   support\n",
            "\n",
            "            Automation & Robotics        0.00      0.00      0.00         0\n",
            "                       Automotive        0.95      0.98      0.97       186\n",
            "                        Baby Care        0.89      0.88      0.88        98\n",
            "            Bags, Wallets & Belts        0.94      0.87      0.90        54\n",
            "         Beauty and Personal Care        0.98      0.95      0.96       136\n",
            "            Cameras & Accessories        0.88      0.96      0.92        23\n",
            "                         Clothing        0.99      0.99      0.99      1205\n",
            "                        Computers        0.95      0.94      0.94       118\n",
            "                          Eyewear        1.00      1.00      1.00         1\n",
            "                 Food & Nutrition        0.00      0.00      0.00         0\n",
            "                         Footwear        1.00      1.00      1.00       238\n",
            "                        Furniture        0.97      0.90      0.93        31\n",
            "                           Gaming        0.67      0.80      0.73         5\n",
            "Health & Personal Care Appliances        1.00      1.00      1.00         9\n",
            "                   Home & Kitchen        0.00      0.00      0.00         3\n",
            "       Home Decor & Festive Needs        0.93      0.96      0.94       178\n",
            "               Home Entertainment        0.43      0.75      0.55         4\n",
            "                  Home Furnishing        0.91      0.96      0.94       155\n",
            "                 Home Improvement        0.78      0.88      0.82        16\n",
            "               Household Supplies        0.00      0.00      0.00         0\n",
            "                        Jewellery        0.99      0.99      0.99       721\n",
            "                 Kitchen & Dining        0.88      0.95      0.92       144\n",
            "            Mobiles & Accessories        0.99      0.92      0.95       237\n",
            "                Pens & Stationery        0.88      0.72      0.79        72\n",
            "                     Pet Supplies        1.00      1.00      1.00         4\n",
            "                 Sports & Fitness        0.84      0.87      0.85        30\n",
            "                       Sunglasses        1.00      1.00      1.00         9\n",
            "                 Tools & Hardware        0.96      0.97      0.96        91\n",
            "           Toys & School Supplies        0.81      0.79      0.80        61\n",
            "                          Watches        1.00      0.99      1.00       104\n",
            "           Wearable Smart Devices        0.00      0.00      0.00         0\n",
            "                           eBooks        1.00      0.50      0.67         2\n",
            "\n",
            "                         micro avg       0.96      0.96      0.96      3935\n",
            "                         macro avg       0.77      0.77      0.76      3935\n",
            "                      weighted avg       0.96      0.96      0.96      3935\n",
            "\n"
          ],
          "name": "stdout"
        },
        {
          "output_type": "stream",
          "text": [
            "/usr/local/lib/python3.7/dist-packages/sklearn/metrics/_classification.py:1272: UndefinedMetricWarning: Precision and F-score are ill-defined and being set to 0.0 in labels with no predicted samples. Use `zero_division` parameter to control this behavior.\n",
            "  _warn_prf(average, modifier, msg_start, len(result))\n",
            "/usr/local/lib/python3.7/dist-packages/sklearn/metrics/_classification.py:1272: UndefinedMetricWarning: Recall and F-score are ill-defined and being set to 0.0 in labels with no true samples. Use `zero_division` parameter to control this behavior.\n",
            "  _warn_prf(average, modifier, msg_start, len(result))\n"
          ],
          "name": "stderr"
        }
      ]
    },
    {
      "cell_type": "code",
      "metadata": {
        "colab": {
          "base_uri": "https://localhost:8080/"
        },
        "id": "3YnqzcNX22q9",
        "outputId": "40e469ee-32ec-468b-98f5-cbd69aa2849c"
      },
      "source": [
        "model = svm.SVC(kernel=\"linear\",class_weight=\"balanced\")\n",
        "vect = TfidfVectorizer()\n",
        "run_model(model,labelled,vect)"
      ],
      "execution_count": 46,
      "outputs": [
        {
          "output_type": "stream",
          "text": [
            "                                    precision    recall  f1-score   support\n",
            "\n",
            "            Automation & Robotics        0.00      0.00      0.00         0\n",
            "                       Automotive        0.95      0.99      0.97       186\n",
            "                        Baby Care        0.85      0.87      0.86        98\n",
            "            Bags, Wallets & Belts        0.94      0.91      0.92        54\n",
            "         Beauty and Personal Care        0.96      0.97      0.97       136\n",
            "            Cameras & Accessories        0.96      0.96      0.96        23\n",
            "                         Clothing        0.99      0.99      0.99      1205\n",
            "                        Computers        0.90      0.97      0.93       118\n",
            "                          Eyewear        1.00      1.00      1.00         1\n",
            "                 Food & Nutrition        0.00      0.00      0.00         0\n",
            "                         Footwear        1.00      1.00      1.00       238\n",
            "                        Furniture        0.97      0.90      0.93        31\n",
            "                           Gaming        0.67      0.80      0.73         5\n",
            "Health & Personal Care Appliances        1.00      1.00      1.00         9\n",
            "                   Home & Kitchen        1.00      0.33      0.50         3\n",
            "       Home Decor & Festive Needs        0.92      0.98      0.95       178\n",
            "               Home Entertainment        0.75      0.75      0.75         4\n",
            "                  Home Furnishing        0.96      0.98      0.97       155\n",
            "                 Home Improvement        0.94      0.94      0.94        16\n",
            "               Household Supplies        0.00      0.00      0.00         0\n",
            "                        Jewellery        1.00      0.99      0.99       721\n",
            "                 Kitchen & Dining        0.94      0.96      0.95       144\n",
            "            Mobiles & Accessories        0.99      0.94      0.96       237\n",
            "                Pens & Stationery        0.91      0.72      0.81        72\n",
            "                     Pet Supplies        0.80      1.00      0.89         4\n",
            "                 Sports & Fitness        0.87      0.87      0.87        30\n",
            "                       Sunglasses        1.00      1.00      1.00         9\n",
            "                 Tools & Hardware        1.00      0.96      0.98        91\n",
            "           Toys & School Supplies        0.79      0.89      0.84        61\n",
            "                          Watches        1.00      0.98      0.99       104\n",
            "           Wearable Smart Devices        0.00      0.00      0.00         0\n",
            "                           eBooks        1.00      0.50      0.67         2\n",
            "\n",
            "                         micro avg       0.97      0.97      0.97      3935\n",
            "                         macro avg       0.81      0.79      0.79      3935\n",
            "                      weighted avg       0.97      0.97      0.97      3935\n",
            "\n"
          ],
          "name": "stdout"
        },
        {
          "output_type": "stream",
          "text": [
            "/usr/local/lib/python3.7/dist-packages/sklearn/metrics/_classification.py:1272: UndefinedMetricWarning: Precision and F-score are ill-defined and being set to 0.0 in labels with no predicted samples. Use `zero_division` parameter to control this behavior.\n",
            "  _warn_prf(average, modifier, msg_start, len(result))\n",
            "/usr/local/lib/python3.7/dist-packages/sklearn/metrics/_classification.py:1272: UndefinedMetricWarning: Recall and F-score are ill-defined and being set to 0.0 in labels with no true samples. Use `zero_division` parameter to control this behavior.\n",
            "  _warn_prf(average, modifier, msg_start, len(result))\n"
          ],
          "name": "stderr"
        }
      ]
    },
    {
      "cell_type": "code",
      "metadata": {
        "colab": {
          "base_uri": "https://localhost:8080/"
        },
        "id": "ACUulU0ZEsgN",
        "outputId": "25d497c5-b478-439d-a643-a7fbfcf6a1d7"
      },
      "source": [
        "model = svm.SVC(kernel=\"linear\",class_weight=\"balanced\")\n",
        "vect = TfidfVectorizer()\n",
        "print(run_model(model,labelled,vect))"
      ],
      "execution_count": 112,
      "outputs": [
        {
          "output_type": "stream",
          "text": [
            "[ 3935  3936  3937 ... 19669 19670 19671] [   0    1    2 ... 3932 3933 3934]\n"
          ],
          "name": "stdout"
        },
        {
          "output_type": "stream",
          "text": [
            "/usr/local/lib/python3.7/dist-packages/sklearn/metrics/_classification.py:1272: UndefinedMetricWarning: Precision is ill-defined and being set to 0.0 in labels with no predicted samples. Use `zero_division` parameter to control this behavior.\n",
            "  _warn_prf(average, modifier, msg_start, len(result))\n"
          ],
          "name": "stderr"
        },
        {
          "output_type": "stream",
          "text": [
            "[    0     1     2 ... 19669 19670 19671] [3935 3936 3937 ... 7867 7868 7869]\n"
          ],
          "name": "stdout"
        },
        {
          "output_type": "stream",
          "text": [
            "/usr/local/lib/python3.7/dist-packages/sklearn/metrics/_classification.py:1272: UndefinedMetricWarning: Precision is ill-defined and being set to 0.0 in labels with no predicted samples. Use `zero_division` parameter to control this behavior.\n",
            "  _warn_prf(average, modifier, msg_start, len(result))\n"
          ],
          "name": "stderr"
        },
        {
          "output_type": "stream",
          "text": [
            "[    0     1     2 ... 19669 19670 19671] [ 7870  7871  7872 ... 11801 11802 11803]\n"
          ],
          "name": "stdout"
        },
        {
          "output_type": "stream",
          "text": [
            "/usr/local/lib/python3.7/dist-packages/sklearn/metrics/_classification.py:1272: UndefinedMetricWarning: Precision is ill-defined and being set to 0.0 in labels with no predicted samples. Use `zero_division` parameter to control this behavior.\n",
            "  _warn_prf(average, modifier, msg_start, len(result))\n"
          ],
          "name": "stderr"
        },
        {
          "output_type": "stream",
          "text": [
            "[    0     1     2 ... 19669 19670 19671] [11804 11805 11806 ... 15735 15736 15737]\n"
          ],
          "name": "stdout"
        },
        {
          "output_type": "stream",
          "text": [
            "/usr/local/lib/python3.7/dist-packages/sklearn/metrics/_classification.py:1272: UndefinedMetricWarning: Precision is ill-defined and being set to 0.0 in labels with no predicted samples. Use `zero_division` parameter to control this behavior.\n",
            "  _warn_prf(average, modifier, msg_start, len(result))\n"
          ],
          "name": "stderr"
        },
        {
          "output_type": "stream",
          "text": [
            "[    0     1     2 ... 15735 15736 15737] [15738 15739 15740 ... 19669 19670 19671]\n",
            "(0.9050505102341347, 0.8728180624291326, 0.8802403143850323)\n"
          ],
          "name": "stdout"
        }
      ]
    },
    {
      "cell_type": "code",
      "metadata": {
        "colab": {
          "base_uri": "https://localhost:8080/"
        },
        "id": "2znV41ifMriz",
        "outputId": "596dc228-1524-437a-d855-69b70118a258"
      },
      "source": [
        "model = svm.SVC(kernel=\"linear\",class_weight=\"balanced\")\n",
        "vect = CountVectorizer()\n",
        "print(run_model(model,labelled,vect))"
      ],
      "execution_count": 113,
      "outputs": [
        {
          "output_type": "stream",
          "text": [
            "[ 3935  3936  3937 ... 19669 19670 19671] [   0    1    2 ... 3932 3933 3934]\n"
          ],
          "name": "stdout"
        },
        {
          "output_type": "stream",
          "text": [
            "/usr/local/lib/python3.7/dist-packages/sklearn/metrics/_classification.py:1272: UndefinedMetricWarning: Precision is ill-defined and being set to 0.0 in labels with no predicted samples. Use `zero_division` parameter to control this behavior.\n",
            "  _warn_prf(average, modifier, msg_start, len(result))\n"
          ],
          "name": "stderr"
        },
        {
          "output_type": "stream",
          "text": [
            "[    0     1     2 ... 19669 19670 19671] [3935 3936 3937 ... 7867 7868 7869]\n"
          ],
          "name": "stdout"
        },
        {
          "output_type": "stream",
          "text": [
            "/usr/local/lib/python3.7/dist-packages/sklearn/metrics/_classification.py:1272: UndefinedMetricWarning: Precision is ill-defined and being set to 0.0 in labels with no predicted samples. Use `zero_division` parameter to control this behavior.\n",
            "  _warn_prf(average, modifier, msg_start, len(result))\n",
            "/usr/local/lib/python3.7/dist-packages/sklearn/metrics/_classification.py:1272: UndefinedMetricWarning: Recall is ill-defined and being set to 0.0 in labels with no true samples. Use `zero_division` parameter to control this behavior.\n",
            "  _warn_prf(average, modifier, msg_start, len(result))\n"
          ],
          "name": "stderr"
        },
        {
          "output_type": "stream",
          "text": [
            "[    0     1     2 ... 19669 19670 19671] [ 7870  7871  7872 ... 11801 11802 11803]\n"
          ],
          "name": "stdout"
        },
        {
          "output_type": "stream",
          "text": [
            "/usr/local/lib/python3.7/dist-packages/sklearn/metrics/_classification.py:1272: UndefinedMetricWarning: Precision is ill-defined and being set to 0.0 in labels with no predicted samples. Use `zero_division` parameter to control this behavior.\n",
            "  _warn_prf(average, modifier, msg_start, len(result))\n"
          ],
          "name": "stderr"
        },
        {
          "output_type": "stream",
          "text": [
            "[    0     1     2 ... 19669 19670 19671] [11804 11805 11806 ... 15735 15736 15737]\n"
          ],
          "name": "stdout"
        },
        {
          "output_type": "stream",
          "text": [
            "/usr/local/lib/python3.7/dist-packages/sklearn/metrics/_classification.py:1272: UndefinedMetricWarning: Precision is ill-defined and being set to 0.0 in labels with no predicted samples. Use `zero_division` parameter to control this behavior.\n",
            "  _warn_prf(average, modifier, msg_start, len(result))\n",
            "/usr/local/lib/python3.7/dist-packages/sklearn/metrics/_classification.py:1272: UndefinedMetricWarning: Recall is ill-defined and being set to 0.0 in labels with no true samples. Use `zero_division` parameter to control this behavior.\n",
            "  _warn_prf(average, modifier, msg_start, len(result))\n"
          ],
          "name": "stderr"
        },
        {
          "output_type": "stream",
          "text": [
            "[    0     1     2 ... 15735 15736 15737] [15738 15739 15740 ... 19669 19670 19671]\n",
            "(0.8554687049947707, 0.83179765446033, 0.8357903716167211)\n"
          ],
          "name": "stdout"
        }
      ]
    },
    {
      "cell_type": "code",
      "metadata": {
        "id": "RQb7JmFWf_rE"
      },
      "source": [
        ""
      ],
      "execution_count": null,
      "outputs": []
    }
  ]
}